{
 "cells": [
  {
   "cell_type": "markdown",
   "id": "c13d63a9",
   "metadata": {},
   "source": [
    "## Importing Libraries"
   ]
  },
  {
   "cell_type": "code",
   "execution_count": 522,
   "id": "dc3eb665",
   "metadata": {},
   "outputs": [],
   "source": [
    "import pandas as pd                         \n",
    "import numpy as np                          \n",
    "import seaborn as sns                       \n",
    "import matplotlib.pyplot as plt               \n",
    "sns.set_style('whitegrid') \n",
    "%matplotlib inline \n",
    "from sklearn.model_selection import train_test_split\n",
    "from sklearn.linear_model import LogisticRegression\n",
    "from sklearn.metrics import confusion_matrix,accuracy_score,classification_report\n",
    "from sklearn.tree import DecisionTreeClassifier \n",
    "from sklearn.ensemble import RandomForestClassifier \n",
    "from sklearn.svm import SVC \n",
    "from sklearn.neighbors import KNeighborsClassifier\n",
    "\n",
    "import warnings\n",
    "warnings.filterwarnings('ignore')"
   ]
  },
  {
   "cell_type": "markdown",
   "id": "b2bf23f5",
   "metadata": {},
   "source": [
    "### Loading the Dataset"
   ]
  },
  {
   "cell_type": "code",
   "execution_count": 523,
   "id": "c99c9916",
   "metadata": {},
   "outputs": [
    {
     "data": {
      "text/html": [
       "<div>\n",
       "<style scoped>\n",
       "    .dataframe tbody tr th:only-of-type {\n",
       "        vertical-align: middle;\n",
       "    }\n",
       "\n",
       "    .dataframe tbody tr th {\n",
       "        vertical-align: top;\n",
       "    }\n",
       "\n",
       "    .dataframe thead th {\n",
       "        text-align: right;\n",
       "    }\n",
       "</style>\n",
       "<table border=\"1\" class=\"dataframe\">\n",
       "  <thead>\n",
       "    <tr style=\"text-align: right;\">\n",
       "      <th></th>\n",
       "      <th>PassengerId</th>\n",
       "      <th>Survived</th>\n",
       "      <th>Pclass</th>\n",
       "      <th>Name</th>\n",
       "      <th>Sex</th>\n",
       "      <th>Age</th>\n",
       "      <th>SibSp</th>\n",
       "      <th>Parch</th>\n",
       "      <th>Ticket</th>\n",
       "      <th>Fare</th>\n",
       "      <th>Cabin</th>\n",
       "      <th>Embarked</th>\n",
       "    </tr>\n",
       "  </thead>\n",
       "  <tbody>\n",
       "    <tr>\n",
       "      <th>0</th>\n",
       "      <td>1</td>\n",
       "      <td>0</td>\n",
       "      <td>3</td>\n",
       "      <td>Braund, Mr. Owen Harris</td>\n",
       "      <td>male</td>\n",
       "      <td>22.0</td>\n",
       "      <td>1</td>\n",
       "      <td>0</td>\n",
       "      <td>A/5 21171</td>\n",
       "      <td>7.2500</td>\n",
       "      <td>NaN</td>\n",
       "      <td>S</td>\n",
       "    </tr>\n",
       "    <tr>\n",
       "      <th>1</th>\n",
       "      <td>2</td>\n",
       "      <td>1</td>\n",
       "      <td>1</td>\n",
       "      <td>Cumings, Mrs. John Bradley (Florence Briggs Th...</td>\n",
       "      <td>female</td>\n",
       "      <td>38.0</td>\n",
       "      <td>1</td>\n",
       "      <td>0</td>\n",
       "      <td>PC 17599</td>\n",
       "      <td>71.2833</td>\n",
       "      <td>C85</td>\n",
       "      <td>C</td>\n",
       "    </tr>\n",
       "    <tr>\n",
       "      <th>2</th>\n",
       "      <td>3</td>\n",
       "      <td>1</td>\n",
       "      <td>3</td>\n",
       "      <td>Heikkinen, Miss. Laina</td>\n",
       "      <td>female</td>\n",
       "      <td>26.0</td>\n",
       "      <td>0</td>\n",
       "      <td>0</td>\n",
       "      <td>STON/O2. 3101282</td>\n",
       "      <td>7.9250</td>\n",
       "      <td>NaN</td>\n",
       "      <td>S</td>\n",
       "    </tr>\n",
       "    <tr>\n",
       "      <th>3</th>\n",
       "      <td>4</td>\n",
       "      <td>1</td>\n",
       "      <td>1</td>\n",
       "      <td>Futrelle, Mrs. Jacques Heath (Lily May Peel)</td>\n",
       "      <td>female</td>\n",
       "      <td>35.0</td>\n",
       "      <td>1</td>\n",
       "      <td>0</td>\n",
       "      <td>113803</td>\n",
       "      <td>53.1000</td>\n",
       "      <td>C123</td>\n",
       "      <td>S</td>\n",
       "    </tr>\n",
       "    <tr>\n",
       "      <th>4</th>\n",
       "      <td>5</td>\n",
       "      <td>0</td>\n",
       "      <td>3</td>\n",
       "      <td>Allen, Mr. William Henry</td>\n",
       "      <td>male</td>\n",
       "      <td>35.0</td>\n",
       "      <td>0</td>\n",
       "      <td>0</td>\n",
       "      <td>373450</td>\n",
       "      <td>8.0500</td>\n",
       "      <td>NaN</td>\n",
       "      <td>S</td>\n",
       "    </tr>\n",
       "  </tbody>\n",
       "</table>\n",
       "</div>"
      ],
      "text/plain": [
       "   PassengerId  Survived  Pclass  \\\n",
       "0            1         0       3   \n",
       "1            2         1       1   \n",
       "2            3         1       3   \n",
       "3            4         1       1   \n",
       "4            5         0       3   \n",
       "\n",
       "                                                Name     Sex   Age  SibSp  \\\n",
       "0                            Braund, Mr. Owen Harris    male  22.0      1   \n",
       "1  Cumings, Mrs. John Bradley (Florence Briggs Th...  female  38.0      1   \n",
       "2                             Heikkinen, Miss. Laina  female  26.0      0   \n",
       "3       Futrelle, Mrs. Jacques Heath (Lily May Peel)  female  35.0      1   \n",
       "4                           Allen, Mr. William Henry    male  35.0      0   \n",
       "\n",
       "   Parch            Ticket     Fare Cabin Embarked  \n",
       "0      0         A/5 21171   7.2500   NaN        S  \n",
       "1      0          PC 17599  71.2833   C85        C  \n",
       "2      0  STON/O2. 3101282   7.9250   NaN        S  \n",
       "3      0            113803  53.1000  C123        S  \n",
       "4      0            373450   8.0500   NaN        S  "
      ]
     },
     "execution_count": 523,
     "metadata": {},
     "output_type": "execute_result"
    }
   ],
   "source": [
    "titanic = pd.read_csv(\"https://raw.githubusercontent.com/dsrscientist/dataset1/master/titanic_train.csv\")\n",
    "titanic.head()  # Loading of 'titanic_train.csv' data file in 'titanic\" dataframe"
   ]
  },
  {
   "cell_type": "code",
   "execution_count": 524,
   "id": "0a75dbaf",
   "metadata": {},
   "outputs": [
    {
     "data": {
      "text/plain": [
       "Index(['PassengerId', 'Survived', 'Pclass', 'Name', 'Sex', 'Age', 'SibSp',\n",
       "       'Parch', 'Ticket', 'Fare', 'Cabin', 'Embarked'],\n",
       "      dtype='object')"
      ]
     },
     "execution_count": 524,
     "metadata": {},
     "output_type": "execute_result"
    }
   ],
   "source": [
    "titanic.columns   # to get the number of columns  in the datasets"
   ]
  },
  {
   "cell_type": "markdown",
   "id": "3a9fa858",
   "metadata": {},
   "source": [
    "## Exploratory Data Analysis (EDA)"
   ]
  },
  {
   "cell_type": "code",
   "execution_count": 525,
   "id": "fff9ddd6",
   "metadata": {},
   "outputs": [
    {
     "data": {
      "text/plain": [
       "<bound method DataFrame.info of      PassengerId  Survived  Pclass  \\\n",
       "0              1         0       3   \n",
       "1              2         1       1   \n",
       "2              3         1       3   \n",
       "3              4         1       1   \n",
       "4              5         0       3   \n",
       "..           ...       ...     ...   \n",
       "886          887         0       2   \n",
       "887          888         1       1   \n",
       "888          889         0       3   \n",
       "889          890         1       1   \n",
       "890          891         0       3   \n",
       "\n",
       "                                                  Name     Sex   Age  SibSp  \\\n",
       "0                              Braund, Mr. Owen Harris    male  22.0      1   \n",
       "1    Cumings, Mrs. John Bradley (Florence Briggs Th...  female  38.0      1   \n",
       "2                               Heikkinen, Miss. Laina  female  26.0      0   \n",
       "3         Futrelle, Mrs. Jacques Heath (Lily May Peel)  female  35.0      1   \n",
       "4                             Allen, Mr. William Henry    male  35.0      0   \n",
       "..                                                 ...     ...   ...    ...   \n",
       "886                              Montvila, Rev. Juozas    male  27.0      0   \n",
       "887                       Graham, Miss. Margaret Edith  female  19.0      0   \n",
       "888           Johnston, Miss. Catherine Helen \"Carrie\"  female   NaN      1   \n",
       "889                              Behr, Mr. Karl Howell    male  26.0      0   \n",
       "890                                Dooley, Mr. Patrick    male  32.0      0   \n",
       "\n",
       "     Parch            Ticket     Fare Cabin Embarked  \n",
       "0        0         A/5 21171   7.2500   NaN        S  \n",
       "1        0          PC 17599  71.2833   C85        C  \n",
       "2        0  STON/O2. 3101282   7.9250   NaN        S  \n",
       "3        0            113803  53.1000  C123        S  \n",
       "4        0            373450   8.0500   NaN        S  \n",
       "..     ...               ...      ...   ...      ...  \n",
       "886      0            211536  13.0000   NaN        S  \n",
       "887      0            112053  30.0000   B42        S  \n",
       "888      2        W./C. 6607  23.4500   NaN        S  \n",
       "889      0            111369  30.0000  C148        C  \n",
       "890      0            370376   7.7500   NaN        Q  \n",
       "\n",
       "[891 rows x 12 columns]>"
      ]
     },
     "execution_count": 525,
     "metadata": {},
     "output_type": "execute_result"
    }
   ],
   "source": [
    "titanic.info  # Concise summary of combined 'titanic' dataset containing column names and data types"
   ]
  },
  {
   "cell_type": "markdown",
   "id": "87e0b24d",
   "metadata": {},
   "source": [
    "### Dataset Fields\n",
    "PassengerId: Unique Id for each passenger\n",
    "\n",
    "Survived: Binary value for survival (0 = No, 1 = Yes)\n",
    "\n",
    "Pclass: Ticket class for each passenger (1 = 1st Class, 2 = 2nd Class, 3 = 3rd Class)\n",
    "\n",
    "Sex: Gender of each passenger\n",
    "\n",
    "Age: Age of each passenger in years\n",
    "\n",
    "SibSp: Number of siblings or spouses aboard the Titanic\n",
    "\n",
    "Parch: Number of parents or children aboard the Titanic\n",
    "\n",
    "Ticket: Ticket number for the passenger\n",
    "\n",
    "Fare: Price of the ticket\n",
    "\n",
    "Cabin: Cabin number of the passenger\n",
    "\n",
    "Embarked: Port of embarkation (C = Cherbourg, Q = Queenstown, S = Southampton)\n",
    "\n",
    "Target\n",
    "\n",
    "To predict if an arbitrary passenger on Titanic would survive the sinking or not."
   ]
  },
  {
   "cell_type": "code",
   "execution_count": 526,
   "id": "16e8c5fd",
   "metadata": {},
   "outputs": [
    {
     "data": {
      "text/html": [
       "<div>\n",
       "<style scoped>\n",
       "    .dataframe tbody tr th:only-of-type {\n",
       "        vertical-align: middle;\n",
       "    }\n",
       "\n",
       "    .dataframe tbody tr th {\n",
       "        vertical-align: top;\n",
       "    }\n",
       "\n",
       "    .dataframe thead th {\n",
       "        text-align: right;\n",
       "    }\n",
       "</style>\n",
       "<table border=\"1\" class=\"dataframe\">\n",
       "  <thead>\n",
       "    <tr style=\"text-align: right;\">\n",
       "      <th></th>\n",
       "      <th>PassengerId</th>\n",
       "      <th>Survived</th>\n",
       "      <th>Pclass</th>\n",
       "      <th>Name</th>\n",
       "      <th>Sex</th>\n",
       "      <th>Age</th>\n",
       "      <th>SibSp</th>\n",
       "      <th>Parch</th>\n",
       "      <th>Ticket</th>\n",
       "      <th>Fare</th>\n",
       "      <th>Cabin</th>\n",
       "      <th>Embarked</th>\n",
       "    </tr>\n",
       "  </thead>\n",
       "  <tbody>\n",
       "    <tr>\n",
       "      <th>count</th>\n",
       "      <td>891.000000</td>\n",
       "      <td>891.000000</td>\n",
       "      <td>891.000000</td>\n",
       "      <td>891</td>\n",
       "      <td>891</td>\n",
       "      <td>714.000000</td>\n",
       "      <td>891.000000</td>\n",
       "      <td>891.000000</td>\n",
       "      <td>891</td>\n",
       "      <td>891.000000</td>\n",
       "      <td>204</td>\n",
       "      <td>889</td>\n",
       "    </tr>\n",
       "    <tr>\n",
       "      <th>unique</th>\n",
       "      <td>NaN</td>\n",
       "      <td>NaN</td>\n",
       "      <td>NaN</td>\n",
       "      <td>891</td>\n",
       "      <td>2</td>\n",
       "      <td>NaN</td>\n",
       "      <td>NaN</td>\n",
       "      <td>NaN</td>\n",
       "      <td>681</td>\n",
       "      <td>NaN</td>\n",
       "      <td>147</td>\n",
       "      <td>3</td>\n",
       "    </tr>\n",
       "    <tr>\n",
       "      <th>top</th>\n",
       "      <td>NaN</td>\n",
       "      <td>NaN</td>\n",
       "      <td>NaN</td>\n",
       "      <td>Ryerson, Miss. Susan Parker \"Suzette\"</td>\n",
       "      <td>male</td>\n",
       "      <td>NaN</td>\n",
       "      <td>NaN</td>\n",
       "      <td>NaN</td>\n",
       "      <td>347082</td>\n",
       "      <td>NaN</td>\n",
       "      <td>C23 C25 C27</td>\n",
       "      <td>S</td>\n",
       "    </tr>\n",
       "    <tr>\n",
       "      <th>freq</th>\n",
       "      <td>NaN</td>\n",
       "      <td>NaN</td>\n",
       "      <td>NaN</td>\n",
       "      <td>1</td>\n",
       "      <td>577</td>\n",
       "      <td>NaN</td>\n",
       "      <td>NaN</td>\n",
       "      <td>NaN</td>\n",
       "      <td>7</td>\n",
       "      <td>NaN</td>\n",
       "      <td>4</td>\n",
       "      <td>644</td>\n",
       "    </tr>\n",
       "    <tr>\n",
       "      <th>mean</th>\n",
       "      <td>446.000000</td>\n",
       "      <td>0.383838</td>\n",
       "      <td>2.308642</td>\n",
       "      <td>NaN</td>\n",
       "      <td>NaN</td>\n",
       "      <td>29.699118</td>\n",
       "      <td>0.523008</td>\n",
       "      <td>0.381594</td>\n",
       "      <td>NaN</td>\n",
       "      <td>32.204208</td>\n",
       "      <td>NaN</td>\n",
       "      <td>NaN</td>\n",
       "    </tr>\n",
       "    <tr>\n",
       "      <th>std</th>\n",
       "      <td>257.353842</td>\n",
       "      <td>0.486592</td>\n",
       "      <td>0.836071</td>\n",
       "      <td>NaN</td>\n",
       "      <td>NaN</td>\n",
       "      <td>14.526497</td>\n",
       "      <td>1.102743</td>\n",
       "      <td>0.806057</td>\n",
       "      <td>NaN</td>\n",
       "      <td>49.693429</td>\n",
       "      <td>NaN</td>\n",
       "      <td>NaN</td>\n",
       "    </tr>\n",
       "    <tr>\n",
       "      <th>min</th>\n",
       "      <td>1.000000</td>\n",
       "      <td>0.000000</td>\n",
       "      <td>1.000000</td>\n",
       "      <td>NaN</td>\n",
       "      <td>NaN</td>\n",
       "      <td>0.420000</td>\n",
       "      <td>0.000000</td>\n",
       "      <td>0.000000</td>\n",
       "      <td>NaN</td>\n",
       "      <td>0.000000</td>\n",
       "      <td>NaN</td>\n",
       "      <td>NaN</td>\n",
       "    </tr>\n",
       "    <tr>\n",
       "      <th>25%</th>\n",
       "      <td>223.500000</td>\n",
       "      <td>0.000000</td>\n",
       "      <td>2.000000</td>\n",
       "      <td>NaN</td>\n",
       "      <td>NaN</td>\n",
       "      <td>20.125000</td>\n",
       "      <td>0.000000</td>\n",
       "      <td>0.000000</td>\n",
       "      <td>NaN</td>\n",
       "      <td>7.910400</td>\n",
       "      <td>NaN</td>\n",
       "      <td>NaN</td>\n",
       "    </tr>\n",
       "    <tr>\n",
       "      <th>50%</th>\n",
       "      <td>446.000000</td>\n",
       "      <td>0.000000</td>\n",
       "      <td>3.000000</td>\n",
       "      <td>NaN</td>\n",
       "      <td>NaN</td>\n",
       "      <td>28.000000</td>\n",
       "      <td>0.000000</td>\n",
       "      <td>0.000000</td>\n",
       "      <td>NaN</td>\n",
       "      <td>14.454200</td>\n",
       "      <td>NaN</td>\n",
       "      <td>NaN</td>\n",
       "    </tr>\n",
       "    <tr>\n",
       "      <th>75%</th>\n",
       "      <td>668.500000</td>\n",
       "      <td>1.000000</td>\n",
       "      <td>3.000000</td>\n",
       "      <td>NaN</td>\n",
       "      <td>NaN</td>\n",
       "      <td>38.000000</td>\n",
       "      <td>1.000000</td>\n",
       "      <td>0.000000</td>\n",
       "      <td>NaN</td>\n",
       "      <td>31.000000</td>\n",
       "      <td>NaN</td>\n",
       "      <td>NaN</td>\n",
       "    </tr>\n",
       "    <tr>\n",
       "      <th>max</th>\n",
       "      <td>891.000000</td>\n",
       "      <td>1.000000</td>\n",
       "      <td>3.000000</td>\n",
       "      <td>NaN</td>\n",
       "      <td>NaN</td>\n",
       "      <td>80.000000</td>\n",
       "      <td>8.000000</td>\n",
       "      <td>6.000000</td>\n",
       "      <td>NaN</td>\n",
       "      <td>512.329200</td>\n",
       "      <td>NaN</td>\n",
       "      <td>NaN</td>\n",
       "    </tr>\n",
       "  </tbody>\n",
       "</table>\n",
       "</div>"
      ],
      "text/plain": [
       "        PassengerId    Survived      Pclass  \\\n",
       "count    891.000000  891.000000  891.000000   \n",
       "unique          NaN         NaN         NaN   \n",
       "top             NaN         NaN         NaN   \n",
       "freq            NaN         NaN         NaN   \n",
       "mean     446.000000    0.383838    2.308642   \n",
       "std      257.353842    0.486592    0.836071   \n",
       "min        1.000000    0.000000    1.000000   \n",
       "25%      223.500000    0.000000    2.000000   \n",
       "50%      446.000000    0.000000    3.000000   \n",
       "75%      668.500000    1.000000    3.000000   \n",
       "max      891.000000    1.000000    3.000000   \n",
       "\n",
       "                                         Name   Sex         Age       SibSp  \\\n",
       "count                                     891   891  714.000000  891.000000   \n",
       "unique                                    891     2         NaN         NaN   \n",
       "top     Ryerson, Miss. Susan Parker \"Suzette\"  male         NaN         NaN   \n",
       "freq                                        1   577         NaN         NaN   \n",
       "mean                                      NaN   NaN   29.699118    0.523008   \n",
       "std                                       NaN   NaN   14.526497    1.102743   \n",
       "min                                       NaN   NaN    0.420000    0.000000   \n",
       "25%                                       NaN   NaN   20.125000    0.000000   \n",
       "50%                                       NaN   NaN   28.000000    0.000000   \n",
       "75%                                       NaN   NaN   38.000000    1.000000   \n",
       "max                                       NaN   NaN   80.000000    8.000000   \n",
       "\n",
       "             Parch  Ticket        Fare        Cabin Embarked  \n",
       "count   891.000000     891  891.000000          204      889  \n",
       "unique         NaN     681         NaN          147        3  \n",
       "top            NaN  347082         NaN  C23 C25 C27        S  \n",
       "freq           NaN       7         NaN            4      644  \n",
       "mean      0.381594     NaN   32.204208          NaN      NaN  \n",
       "std       0.806057     NaN   49.693429          NaN      NaN  \n",
       "min       0.000000     NaN    0.000000          NaN      NaN  \n",
       "25%       0.000000     NaN    7.910400          NaN      NaN  \n",
       "50%       0.000000     NaN   14.454200          NaN      NaN  \n",
       "75%       0.000000     NaN   31.000000          NaN      NaN  \n",
       "max       6.000000     NaN  512.329200          NaN      NaN  "
      ]
     },
     "execution_count": 526,
     "metadata": {},
     "output_type": "execute_result"
    }
   ],
   "source": [
    "titanic.describe(include='all')  # To generate descriptive statitics of combined titanic dataset."
   ]
  },
  {
   "cell_type": "markdown",
   "id": "c4e58df6",
   "metadata": {},
   "source": [
    "#### Missing Data Identification"
   ]
  },
  {
   "cell_type": "code",
   "execution_count": 527,
   "id": "410cdfbc",
   "metadata": {},
   "outputs": [
    {
     "data": {
      "text/plain": [
       "PassengerId      0\n",
       "Survived         0\n",
       "Pclass           0\n",
       "Name             0\n",
       "Sex              0\n",
       "Age            177\n",
       "SibSp            0\n",
       "Parch            0\n",
       "Ticket           0\n",
       "Fare             0\n",
       "Cabin          687\n",
       "Embarked         2\n",
       "dtype: int64"
      ]
     },
     "execution_count": 527,
     "metadata": {},
     "output_type": "execute_result"
    }
   ],
   "source": [
    "titanic.isnull().sum()  # To get the count of missing data in each column"
   ]
  },
  {
   "cell_type": "markdown",
   "id": "80743944",
   "metadata": {},
   "source": [
    "#### Graphical Representation of the missing data"
   ]
  },
  {
   "cell_type": "code",
   "execution_count": 528,
   "id": "0fbbe8f8",
   "metadata": {},
   "outputs": [
    {
     "data": {
      "text/plain": [
       "Text(0.5, 1.0, 'Graphical Representations of Null Values in Titanic Dataframe')"
      ]
     },
     "execution_count": 528,
     "metadata": {},
     "output_type": "execute_result"
    },
    {
     "data": {
      "image/png": "[encoded data removed]",
      "text/plain": [
       "<Figure size 576x360 with 1 Axes>"
      ]
     },
     "metadata": {
      "needs_background": "light"
     },
     "output_type": "display_data"
    }
   ],
   "source": [
    "plt.figure(figsize=(8,5))\n",
    "sns.set_style('whitegrid')\n",
    "sns.heatmap(titanic.isnull(),yticklabels=False,cbar=False)   # Visualization of missing data\n",
    "plt.title('Graphical Representations of Null Values in Titanic Dataframe')"
   ]
  },
  {
   "cell_type": "markdown",
   "id": "491590da",
   "metadata": {},
   "source": [
    "### Embarked"
   ]
  },
  {
   "cell_type": "markdown",
   "id": "02720b57",
   "metadata": {},
   "source": [
    "Let's take the column, Embarked first to populate the missing values."
   ]
  },
  {
   "cell_type": "code",
   "execution_count": 529,
   "id": "8a6de997",
   "metadata": {},
   "outputs": [
    {
     "data": {
      "text/html": [
       "<div>\n",
       "<style scoped>\n",
       "    .dataframe tbody tr th:only-of-type {\n",
       "        vertical-align: middle;\n",
       "    }\n",
       "\n",
       "    .dataframe tbody tr th {\n",
       "        vertical-align: top;\n",
       "    }\n",
       "\n",
       "    .dataframe thead th {\n",
       "        text-align: right;\n",
       "    }\n",
       "</style>\n",
       "<table border=\"1\" class=\"dataframe\">\n",
       "  <thead>\n",
       "    <tr style=\"text-align: right;\">\n",
       "      <th></th>\n",
       "      <th>PassengerId</th>\n",
       "      <th>Survived</th>\n",
       "      <th>Pclass</th>\n",
       "      <th>Name</th>\n",
       "      <th>Sex</th>\n",
       "      <th>Age</th>\n",
       "      <th>SibSp</th>\n",
       "      <th>Parch</th>\n",
       "      <th>Ticket</th>\n",
       "      <th>Fare</th>\n",
       "      <th>Cabin</th>\n",
       "      <th>Embarked</th>\n",
       "    </tr>\n",
       "  </thead>\n",
       "  <tbody>\n",
       "    <tr>\n",
       "      <th>61</th>\n",
       "      <td>62</td>\n",
       "      <td>1</td>\n",
       "      <td>1</td>\n",
       "      <td>Icard, Miss. Amelie</td>\n",
       "      <td>female</td>\n",
       "      <td>38.0</td>\n",
       "      <td>0</td>\n",
       "      <td>0</td>\n",
       "      <td>113572</td>\n",
       "      <td>80.0</td>\n",
       "      <td>B28</td>\n",
       "      <td>NaN</td>\n",
       "    </tr>\n",
       "    <tr>\n",
       "      <th>829</th>\n",
       "      <td>830</td>\n",
       "      <td>1</td>\n",
       "      <td>1</td>\n",
       "      <td>Stone, Mrs. George Nelson (Martha Evelyn)</td>\n",
       "      <td>female</td>\n",
       "      <td>62.0</td>\n",
       "      <td>0</td>\n",
       "      <td>0</td>\n",
       "      <td>113572</td>\n",
       "      <td>80.0</td>\n",
       "      <td>B28</td>\n",
       "      <td>NaN</td>\n",
       "    </tr>\n",
       "  </tbody>\n",
       "</table>\n",
       "</div>"
      ],
      "text/plain": [
       "     PassengerId  Survived  Pclass                                       Name  \\\n",
       "61            62         1       1                        Icard, Miss. Amelie   \n",
       "829          830         1       1  Stone, Mrs. George Nelson (Martha Evelyn)   \n",
       "\n",
       "        Sex   Age  SibSp  Parch  Ticket  Fare Cabin Embarked  \n",
       "61   female  38.0      0      0  113572  80.0   B28      NaN  \n",
       "829  female  62.0      0      0  113572  80.0   B28      NaN  "
      ]
     },
     "execution_count": 529,
     "metadata": {},
     "output_type": "execute_result"
    }
   ],
   "source": [
    "titanic[titanic['Embarked'].isnull()]"
   ]
  },
  {
   "cell_type": "markdown",
   "id": "85498cfe",
   "metadata": {},
   "source": [
    "These two instances are for two ladies, who travelled in \"Class 1\", together on the same ticket and even shared the Cabin (B28)."
   ]
  },
  {
   "cell_type": "code",
   "execution_count": 530,
   "id": "408e0341",
   "metadata": {},
   "outputs": [
    {
     "data": {
      "text/plain": [
       "Embarked\n",
       "C     85\n",
       "Q      2\n",
       "S    127\n",
       "Name: Pclass, dtype: int64"
      ]
     },
     "execution_count": 530,
     "metadata": {},
     "output_type": "execute_result"
    }
   ],
   "source": [
    "# Shows the no. of first class passengers by Embarked\n",
    "titanic[(titanic['Pclass']==1)].groupby('Embarked')['Pclass'].count()"
   ]
  },
  {
   "cell_type": "markdown",
   "id": "51f9c028",
   "metadata": {},
   "source": [
    "As they were travelling in \"Class 1\", we can use \"groupby\" statement to get the port from where most \"Class 1\" travellers boarded."
   ]
  },
  {
   "cell_type": "markdown",
   "id": "7a849ea6",
   "metadata": {},
   "source": [
    "### Data Visualization"
   ]
  },
  {
   "cell_type": "code",
   "execution_count": 531,
   "id": "f2ebf10e",
   "metadata": {},
   "outputs": [
    {
     "data": {
      "text/plain": [
       "Text(0.5, 1.0, 'Number of Passengers by of first class by Emabarked')"
      ]
     },
     "execution_count": 531,
     "metadata": {},
     "output_type": "execute_result"
    },
    {
     "data": {
      "image/png": "[encoded data removed]",
      "text/plain": [
       "<Figure size 864x360 with 1 Axes>"
      ]
     },
     "metadata": {},
     "output_type": "display_data"
    }
   ],
   "source": [
    "plt.figure(figsize=(12,5))\n",
    "sns.countplot(data=titanic, x='Pclass', hue='Embarked')\n",
    "plt.title('Number of Passengers by of first class by Emabarked')"
   ]
  },
  {
   "cell_type": "code",
   "execution_count": 532,
   "id": "f3659fd3",
   "metadata": {},
   "outputs": [],
   "source": [
    "titanic['Embarked'].fillna('S',inplace=True)"
   ]
  },
  {
   "cell_type": "markdown",
   "id": "322bf972",
   "metadata": {},
   "source": [
    " This will give us the number of missing values within \"Embarked\" column"
   ]
  },
  {
   "cell_type": "code",
   "execution_count": 533,
   "id": "eab36936",
   "metadata": {},
   "outputs": [
    {
     "data": {
      "text/html": [
       "<div>\n",
       "<style scoped>\n",
       "    .dataframe tbody tr th:only-of-type {\n",
       "        vertical-align: middle;\n",
       "    }\n",
       "\n",
       "    .dataframe tbody tr th {\n",
       "        vertical-align: top;\n",
       "    }\n",
       "\n",
       "    .dataframe thead th {\n",
       "        text-align: right;\n",
       "    }\n",
       "</style>\n",
       "<table border=\"1\" class=\"dataframe\">\n",
       "  <thead>\n",
       "    <tr style=\"text-align: right;\">\n",
       "      <th></th>\n",
       "      <th>PassengerId</th>\n",
       "      <th>Survived</th>\n",
       "      <th>Pclass</th>\n",
       "      <th>Name</th>\n",
       "      <th>Sex</th>\n",
       "      <th>Age</th>\n",
       "      <th>SibSp</th>\n",
       "      <th>Parch</th>\n",
       "      <th>Ticket</th>\n",
       "      <th>Fare</th>\n",
       "      <th>Cabin</th>\n",
       "      <th>Embarked</th>\n",
       "    </tr>\n",
       "  </thead>\n",
       "  <tbody>\n",
       "    <tr>\n",
       "      <th>61</th>\n",
       "      <td>62</td>\n",
       "      <td>1</td>\n",
       "      <td>1</td>\n",
       "      <td>Icard, Miss. Amelie</td>\n",
       "      <td>female</td>\n",
       "      <td>38.0</td>\n",
       "      <td>0</td>\n",
       "      <td>0</td>\n",
       "      <td>113572</td>\n",
       "      <td>80.0</td>\n",
       "      <td>B28</td>\n",
       "      <td>S</td>\n",
       "    </tr>\n",
       "    <tr>\n",
       "      <th>829</th>\n",
       "      <td>830</td>\n",
       "      <td>1</td>\n",
       "      <td>1</td>\n",
       "      <td>Stone, Mrs. George Nelson (Martha Evelyn)</td>\n",
       "      <td>female</td>\n",
       "      <td>62.0</td>\n",
       "      <td>0</td>\n",
       "      <td>0</td>\n",
       "      <td>113572</td>\n",
       "      <td>80.0</td>\n",
       "      <td>B28</td>\n",
       "      <td>S</td>\n",
       "    </tr>\n",
       "  </tbody>\n",
       "</table>\n",
       "</div>"
      ],
      "text/plain": [
       "     PassengerId  Survived  Pclass                                       Name  \\\n",
       "61            62         1       1                        Icard, Miss. Amelie   \n",
       "829          830         1       1  Stone, Mrs. George Nelson (Martha Evelyn)   \n",
       "\n",
       "        Sex   Age  SibSp  Parch  Ticket  Fare Cabin Embarked  \n",
       "61   female  38.0      0      0  113572  80.0   B28        S  \n",
       "829  female  62.0      0      0  113572  80.0   B28        S  "
      ]
     },
     "execution_count": 533,
     "metadata": {},
     "output_type": "execute_result"
    }
   ],
   "source": [
    "titanic[(titanic['PassengerId'] == 62) | (titanic['PassengerId'] == 830)]"
   ]
  },
  {
   "cell_type": "markdown",
   "id": "842d215d",
   "metadata": {},
   "source": [
    "Now that all missing values in Embarked column have been populated, let's analyse it in detail."
   ]
  },
  {
   "cell_type": "code",
   "execution_count": 534,
   "id": "d7befa19",
   "metadata": {},
   "outputs": [
    {
     "data": {
      "text/plain": [
       "Text(0.5, 1.0, 'Survival vs. Embarked')"
      ]
     },
     "execution_count": 534,
     "metadata": {},
     "output_type": "execute_result"
    },
    {
     "data": {
      "image/png": "[encoded data removed]",
      "text/plain": [
       "<Figure size 720x360 with 1 Axes>"
      ]
     },
     "metadata": {},
     "output_type": "display_data"
    }
   ],
   "source": [
    "plt.figure(figsize=(10,5))\n",
    "sns.pointplot(x='Embarked', y='Survived',data=titanic, color='g')\n",
    "plt.title('Survival vs. Embarked')"
   ]
  },
  {
   "cell_type": "code",
   "execution_count": 535,
   "id": "25e359c7",
   "metadata": {},
   "outputs": [
    {
     "data": {
      "text/plain": [
       "<seaborn.axisgrid.FacetGrid at 0x186ac37abb0>"
      ]
     },
     "execution_count": 535,
     "metadata": {},
     "output_type": "execute_result"
    },
    {
     "data": {
      "image/png": "[encoded data removed]",
      "text/plain": [
       "<Figure size 1080x360 with 3 Axes>"
      ]
     },
     "metadata": {},
     "output_type": "display_data"
    }
   ],
   "source": [
    "sns.factorplot('Embarked','Survived', col='Pclass',data=titanic)"
   ]
  },
  {
   "cell_type": "code",
   "execution_count": 536,
   "id": "28b016b4",
   "metadata": {},
   "outputs": [
    {
     "data": {
      "text/plain": [
       "Text(0.5, 1.0, 'Survival vs. Embarked based on Gender')"
      ]
     },
     "execution_count": 536,
     "metadata": {},
     "output_type": "execute_result"
    },
    {
     "data": {
      "image/png": "[encoded data removed]",
      "text/plain": [
       "<Figure size 426.125x360 with 1 Axes>"
      ]
     },
     "metadata": {},
     "output_type": "display_data"
    }
   ],
   "source": [
    "sns.factorplot('Embarked','Survived', hue='Sex', data=titanic, palette='rainbow')\n",
    "plt.title('Survival vs. Embarked based on Gender')"
   ]
  },
  {
   "cell_type": "markdown",
   "id": "6942b0db",
   "metadata": {},
   "source": [
    "### Age\n",
    " Age column has 177 missing values. But before we populate the missing values, let's first draw a histogram of Age with null values. "
   ]
  },
  {
   "cell_type": "markdown",
   "id": "90e75856",
   "metadata": {},
   "source": [
    "#### Age Distribution Graph based on Mean age, Median Age and then predict the overall Average age"
   ]
  },
  {
   "cell_type": "code",
   "execution_count": 537,
   "id": "84c71c1f",
   "metadata": {},
   "outputs": [
    {
     "data": {
      "text/plain": [
       "Text(0.5, 1.0, 'Age Distribution')"
      ]
     },
     "execution_count": 537,
     "metadata": {},
     "output_type": "execute_result"
    },
    {
     "data": {
      "image/png": "[encoded data removed]",
      "text/plain": [
       "<Figure size 864x360 with 1 Axes>"
      ]
     },
     "metadata": {},
     "output_type": "display_data"
    }
   ],
   "source": [
    "plt.figure(figsize=(12,5))\n",
    "sns.distplot(titanic['Age'].dropna(),bins=50,color='blue',kde=True)\n",
    "plt.title('Age Distribution')"
   ]
  },
  {
   "cell_type": "markdown",
   "id": "fb405e80",
   "metadata": {},
   "source": [
    "The graphs shows that most of the passengers were between 18 and 40 years old."
   ]
  },
  {
   "cell_type": "code",
   "execution_count": 538,
   "id": "833fd072",
   "metadata": {},
   "outputs": [
    {
     "name": "stdout",
     "output_type": "stream",
     "text": [
      "Mean Age:    29.69911764705882 years\n",
      "Median Age:  28.0 years\n"
     ]
    }
   ],
   "source": [
    "print (\"Mean Age:   \", titanic.Age.dropna().mean(), \"years\")   \n",
    "print (\"Median Age: \", titanic.Age.dropna().median(), \"years\")"
   ]
  },
  {
   "cell_type": "markdown",
   "id": "0297610e",
   "metadata": {},
   "source": [
    "We can improve these averages based on passengers' class of travel (Pclass) and gender (Sex) and a combination of both."
   ]
  },
  {
   "cell_type": "code",
   "execution_count": 539,
   "id": "6a5e3f56",
   "metadata": {},
   "outputs": [
    {
     "name": "stdout",
     "output_type": "stream",
     "text": [
      "Class 1, Overall average age:  38.233440860215055\n",
      "Class 2, Overall average age:  29.87763005780347\n",
      "Class 3, Overall average age:  25.14061971830986\n"
     ]
    }
   ],
   "source": [
    "print(\"Class 1, Overall average age: \",(titanic[titanic['Pclass']==1])['Age'].mean())\n",
    "print(\"Class 2, Overall average age: \",(titanic[titanic['Pclass']==2])['Age'].mean())\n",
    "print(\"Class 3, Overall average age: \",(titanic[titanic['Pclass']==3])['Age'].mean())"
   ]
  },
  {
   "cell_type": "markdown",
   "id": "34afa54e",
   "metadata": {},
   "source": [
    "#### Average Age per Class based on Gender"
   ]
  },
  {
   "cell_type": "code",
   "execution_count": 540,
   "id": "55574129",
   "metadata": {},
   "outputs": [
    {
     "name": "stdout",
     "output_type": "stream",
     "text": [
      "Class 1, Male average age  :  41.28138613861386\n",
      "Class 1, Female average age:  34.61176470588235\n",
      "Class 2, Male average age  :  30.74070707070707\n",
      "Class 2, Female average age:  28.722972972972972\n",
      "Class 3, Male average age  :  26.507588932806325\n",
      "Class 3, Female average age:  21.75\n"
     ]
    }
   ],
   "source": [
    "print(\"Class 1, Male average age  : \",(titanic[(titanic['Pclass']==1) & (titanic['Sex']== 'male')])['Age'].mean())\n",
    "print(\"Class 1, Female average age: \",(titanic[(titanic['Pclass']==1) & (titanic['Sex']== 'female')])['Age'].mean())\n",
    "print(\"Class 2, Male average age  : \",(titanic[(titanic['Pclass']==2) & (titanic['Sex']== 'male')])['Age'].mean())\n",
    "print(\"Class 2, Female average age: \",(titanic[(titanic['Pclass']==2) & (titanic['Sex']== 'female')])['Age'].mean())\n",
    "print(\"Class 3, Male average age  : \",(titanic[(titanic['Pclass']==3) & (titanic['Sex']== 'male')])['Age'].mean())\n",
    "print(\"Class 3, Female average age: \",(titanic[(titanic['Pclass']==3) & (titanic['Sex']== 'female')])['Age'].mean())"
   ]
  },
  {
   "cell_type": "markdown",
   "id": "3d8586b9",
   "metadata": {},
   "source": [
    "### Name- \n",
    "We can use Regex(Regular Expressions) on \"Name\" column to create a new feature/column \"Title\"."
   ]
  },
  {
   "cell_type": "code",
   "execution_count": 541,
   "id": "ec06aad2",
   "metadata": {},
   "outputs": [],
   "source": [
    "titanic['Title'] = titanic.Name.str.extract('([A-Za-z]+)\\.',expand=True)"
   ]
  },
  {
   "cell_type": "markdown",
   "id": "34e66a3b",
   "metadata": {},
   "source": [
    "Let's reconfirm this by running a 'value_counts' statement on \"Title\" to check all possible values that we have."
   ]
  },
  {
   "cell_type": "code",
   "execution_count": 542,
   "id": "110573d5",
   "metadata": {},
   "outputs": [
    {
     "data": {
      "text/plain": [
       "Mr          517\n",
       "Miss        182\n",
       "Mrs         125\n",
       "Master       40\n",
       "Dr            7\n",
       "Rev           6\n",
       "Col           2\n",
       "Major         2\n",
       "Mlle          2\n",
       "Lady          1\n",
       "Countess      1\n",
       "Don           1\n",
       "Jonkheer      1\n",
       "Ms            1\n",
       "Sir           1\n",
       "Mme           1\n",
       "Capt          1\n",
       "Name: Title, dtype: int64"
      ]
     },
     "execution_count": 542,
     "metadata": {},
     "output_type": "execute_result"
    }
   ],
   "source": [
    "titanic['Title'].value_counts()"
   ]
  },
  {
   "cell_type": "markdown",
   "id": "0154dd34",
   "metadata": {},
   "source": [
    "As adult females a well as girl child will have the same title \"Miss\", \"Ms.\", \"the Countess\", \"Mme\",\"Mlle\", its obvious that Title alone cannot be used to determine female child.\n",
    "Therefore, we rely only on title is \"Master\" to use to determine a Child or adult."
   ]
  },
  {
   "cell_type": "code",
   "execution_count": 543,
   "id": "812c2253",
   "metadata": {},
   "outputs": [
    {
     "data": {
      "text/html": [
       "<div>\n",
       "<style scoped>\n",
       "    .dataframe tbody tr th:only-of-type {\n",
       "        vertical-align: middle;\n",
       "    }\n",
       "\n",
       "    .dataframe tbody tr th {\n",
       "        vertical-align: top;\n",
       "    }\n",
       "\n",
       "    .dataframe thead th {\n",
       "        text-align: right;\n",
       "    }\n",
       "</style>\n",
       "<table border=\"1\" class=\"dataframe\">\n",
       "  <thead>\n",
       "    <tr style=\"text-align: right;\">\n",
       "      <th>Sex</th>\n",
       "      <th>female</th>\n",
       "      <th>male</th>\n",
       "      <th>All</th>\n",
       "    </tr>\n",
       "    <tr>\n",
       "      <th>Title</th>\n",
       "      <th></th>\n",
       "      <th></th>\n",
       "      <th></th>\n",
       "    </tr>\n",
       "  </thead>\n",
       "  <tbody>\n",
       "    <tr>\n",
       "      <th>Capt</th>\n",
       "      <td>0</td>\n",
       "      <td>1</td>\n",
       "      <td>1</td>\n",
       "    </tr>\n",
       "    <tr>\n",
       "      <th>Col</th>\n",
       "      <td>0</td>\n",
       "      <td>2</td>\n",
       "      <td>2</td>\n",
       "    </tr>\n",
       "    <tr>\n",
       "      <th>Countess</th>\n",
       "      <td>1</td>\n",
       "      <td>0</td>\n",
       "      <td>1</td>\n",
       "    </tr>\n",
       "    <tr>\n",
       "      <th>Don</th>\n",
       "      <td>0</td>\n",
       "      <td>1</td>\n",
       "      <td>1</td>\n",
       "    </tr>\n",
       "    <tr>\n",
       "      <th>Dr</th>\n",
       "      <td>1</td>\n",
       "      <td>6</td>\n",
       "      <td>7</td>\n",
       "    </tr>\n",
       "    <tr>\n",
       "      <th>Jonkheer</th>\n",
       "      <td>0</td>\n",
       "      <td>1</td>\n",
       "      <td>1</td>\n",
       "    </tr>\n",
       "    <tr>\n",
       "      <th>Lady</th>\n",
       "      <td>1</td>\n",
       "      <td>0</td>\n",
       "      <td>1</td>\n",
       "    </tr>\n",
       "    <tr>\n",
       "      <th>Major</th>\n",
       "      <td>0</td>\n",
       "      <td>2</td>\n",
       "      <td>2</td>\n",
       "    </tr>\n",
       "    <tr>\n",
       "      <th>Master</th>\n",
       "      <td>0</td>\n",
       "      <td>40</td>\n",
       "      <td>40</td>\n",
       "    </tr>\n",
       "    <tr>\n",
       "      <th>Miss</th>\n",
       "      <td>182</td>\n",
       "      <td>0</td>\n",
       "      <td>182</td>\n",
       "    </tr>\n",
       "    <tr>\n",
       "      <th>Mlle</th>\n",
       "      <td>2</td>\n",
       "      <td>0</td>\n",
       "      <td>2</td>\n",
       "    </tr>\n",
       "    <tr>\n",
       "      <th>Mme</th>\n",
       "      <td>1</td>\n",
       "      <td>0</td>\n",
       "      <td>1</td>\n",
       "    </tr>\n",
       "    <tr>\n",
       "      <th>Mr</th>\n",
       "      <td>0</td>\n",
       "      <td>517</td>\n",
       "      <td>517</td>\n",
       "    </tr>\n",
       "    <tr>\n",
       "      <th>Mrs</th>\n",
       "      <td>125</td>\n",
       "      <td>0</td>\n",
       "      <td>125</td>\n",
       "    </tr>\n",
       "    <tr>\n",
       "      <th>Ms</th>\n",
       "      <td>1</td>\n",
       "      <td>0</td>\n",
       "      <td>1</td>\n",
       "    </tr>\n",
       "    <tr>\n",
       "      <th>Rev</th>\n",
       "      <td>0</td>\n",
       "      <td>6</td>\n",
       "      <td>6</td>\n",
       "    </tr>\n",
       "    <tr>\n",
       "      <th>Sir</th>\n",
       "      <td>0</td>\n",
       "      <td>1</td>\n",
       "      <td>1</td>\n",
       "    </tr>\n",
       "    <tr>\n",
       "      <th>All</th>\n",
       "      <td>314</td>\n",
       "      <td>577</td>\n",
       "      <td>891</td>\n",
       "    </tr>\n",
       "  </tbody>\n",
       "</table>\n",
       "</div>"
      ],
      "text/plain": [
       "Sex       female  male  All\n",
       "Title                      \n",
       "Capt           0     1    1\n",
       "Col            0     2    2\n",
       "Countess       1     0    1\n",
       "Don            0     1    1\n",
       "Dr             1     6    7\n",
       "Jonkheer       0     1    1\n",
       "Lady           1     0    1\n",
       "Major          0     2    2\n",
       "Master         0    40   40\n",
       "Miss         182     0  182\n",
       "Mlle           2     0    2\n",
       "Mme            1     0    1\n",
       "Mr             0   517  517\n",
       "Mrs          125     0  125\n",
       "Ms             1     0    1\n",
       "Rev            0     6    6\n",
       "Sir            0     1    1\n",
       "All          314   577  891"
      ]
     },
     "execution_count": 543,
     "metadata": {},
     "output_type": "execute_result"
    }
   ],
   "source": [
    "pd.crosstab(titanic['Title'],titanic['Sex'],margins=True)"
   ]
  },
  {
   "cell_type": "markdown",
   "id": "38150d73",
   "metadata": {},
   "source": [
    " Replacing titles to reduce overall times to Child, Mr, Mrs, Miss, and Other"
   ]
  },
  {
   "cell_type": "code",
   "execution_count": 544,
   "id": "514ded82",
   "metadata": {},
   "outputs": [],
   "source": [
    "titanic['Title'].replace(['Master','Ms','Mlle','Mme','Dr','Major','Lady','Countess','Jonkheer','Col','Rev','Capt','Sir','Don'],\\\n",
    "            ['Child','Miss','Miss','Miss','Mr','Mr','Mrs','Mrs','Other','Other','Other','Mr','Mr','Mr'],inplace=True)"
   ]
  },
  {
   "cell_type": "markdown",
   "id": "ca2c6197",
   "metadata": {},
   "source": [
    "Rechecking whether the changes are made correctly"
   ]
  },
  {
   "cell_type": "code",
   "execution_count": 545,
   "id": "59658bab",
   "metadata": {},
   "outputs": [
    {
     "data": {
      "text/plain": [
       "Mr       529\n",
       "Miss     186\n",
       "Mrs      127\n",
       "Child     40\n",
       "Other      9\n",
       "Name: Title, dtype: int64"
      ]
     },
     "execution_count": 545,
     "metadata": {},
     "output_type": "execute_result"
    }
   ],
   "source": [
    "titanic.Title.value_counts()"
   ]
  },
  {
   "cell_type": "markdown",
   "id": "a2ce53b6",
   "metadata": {},
   "source": [
    "Now we will calculate passengers' mean age based on the new feature Title."
   ]
  },
  {
   "cell_type": "code",
   "execution_count": 546,
   "id": "e3133018",
   "metadata": {},
   "outputs": [
    {
     "data": {
      "text/plain": [
       "Title\n",
       "Child     4.574167\n",
       "Miss     21.860000\n",
       "Mr       32.739609\n",
       "Mrs      35.981818\n",
       "Other    45.888889\n",
       "Name: Age, dtype: float64"
      ]
     },
     "execution_count": 546,
     "metadata": {},
     "output_type": "execute_result"
    }
   ],
   "source": [
    "titanic.groupby('Title')['Age'].mean()"
   ]
  },
  {
   "cell_type": "markdown",
   "id": "500434c6",
   "metadata": {},
   "source": [
    " let's recalculate the mean age based on \"Title\" and \"Pclass\""
   ]
  },
  {
   "cell_type": "markdown",
   "id": "dbad4725",
   "metadata": {},
   "source": [
    "Let's round the above mentioned values to the nearest whole number before imputing into missing/null values of Age column"
   ]
  },
  {
   "cell_type": "code",
   "execution_count": 547,
   "id": "9d30d02a",
   "metadata": {},
   "outputs": [
    {
     "data": {
      "text/plain": [
       "Title  Pclass\n",
       "Child  1          5.0\n",
       "       2          2.0\n",
       "       3          5.0\n",
       "Miss   1         30.0\n",
       "       2         23.0\n",
       "       3         16.0\n",
       "Mr     1         42.0\n",
       "       2         33.0\n",
       "       3         29.0\n",
       "Mrs    1         41.0\n",
       "       2         34.0\n",
       "       3         34.0\n",
       "Other  1         51.0\n",
       "       2         43.0\n",
       "Name: Age, dtype: float64"
      ]
     },
     "execution_count": 547,
     "metadata": {},
     "output_type": "execute_result"
    }
   ],
   "source": [
    "round(titanic.groupby(['Title',  'Pclass'])['Age'].mean())"
   ]
  },
  {
   "cell_type": "code",
   "execution_count": 548,
   "id": "5a3f54b7",
   "metadata": {},
   "outputs": [
    {
     "data": {
      "text/plain": [
       "<seaborn.axisgrid.FacetGrid at 0x186ac7af910>"
      ]
     },
     "execution_count": 548,
     "metadata": {},
     "output_type": "execute_result"
    },
    {
     "data": {
      "image/png": "[encoded data removed]",
      "text/plain": [
       "<Figure size 1127x360 with 3 Axes>"
      ]
     },
     "metadata": {},
     "output_type": "display_data"
    }
   ],
   "source": [
    "sns.factorplot(data=titanic, x='Title', col = 'Pclass',kind='count',hue='Survived')"
   ]
  },
  {
   "cell_type": "markdown",
   "id": "15903c01",
   "metadata": {},
   "source": [
    "#### Define Age Fixing Function"
   ]
  },
  {
   "cell_type": "code",
   "execution_count": 549,
   "id": "0b6a61d6",
   "metadata": {},
   "outputs": [],
   "source": [
    "def age_fix(cols):\n",
    "    \n",
    "    Age = cols[0]\n",
    "    Pclass = cols[1]\n",
    "    Title = cols[2]\n",
    "    \n",
    "    if pd.isnull(Age):\n",
    "        \n",
    "        if Pclass == 1 and Title == 'Child':\n",
    "            return 5\n",
    "        elif Pclass == 2 and Title == 'Child':\n",
    "            return 2\n",
    "        elif Pclass == 3 and Title == 'Child':\n",
    "            return 5\n",
    "        \n",
    "        elif Pclass == 1 and Title == 'Miss':\n",
    "            return 30\n",
    "        elif Pclass == 2 and Title == 'Miss':\n",
    "            return 23\n",
    "        elif Pclass == 3 and Title == 'Miss':\n",
    "            return 16\n",
    "        \n",
    "        elif Pclass == 1 and Title == 'Mr':\n",
    "            return 42\n",
    "        elif Pclass == 2 and Title == 'Mr':\n",
    "            return 33\n",
    "        elif Pclass == 3 and Title == 'Mr':\n",
    "             return 29\n",
    "        \n",
    "        elif Pclass == 1 and Title == 'Mrs':\n",
    "            return 41\n",
    "        elif Pclass == 2 and Title == 'Mrs':\n",
    "            return 34\n",
    "        elif Pclass == 3 and Title == 'Mrs':\n",
    "            return 34\n",
    "        \n",
    "        elif Pclass == 1 and Title == 'Other':\n",
    "            return 51\n",
    "        elif Pclass == 2 and Title == 'Other':\n",
    "            return 43\n",
    "              \n",
    "        else:\n",
    "            return Age\n",
    "    else:\n",
    "        return Age"
   ]
  },
  {
   "cell_type": "markdown",
   "id": "725ce79f",
   "metadata": {},
   "source": [
    "let's use the age_fix function to impute missing values in Age column"
   ]
  },
  {
   "cell_type": "code",
   "execution_count": 550,
   "id": "66a18b5e",
   "metadata": {},
   "outputs": [],
   "source": [
    "titanic['Age'] = titanic[['Age','Pclass','Title']].apply(age_fix,axis=1)"
   ]
  },
  {
   "cell_type": "markdown",
   "id": "995e1282",
   "metadata": {},
   "source": [
    "Let's reconfirm that there are no more missing / null values in Age column."
   ]
  },
  {
   "cell_type": "code",
   "execution_count": 551,
   "id": "3c91a849",
   "metadata": {},
   "outputs": [
    {
     "data": {
      "text/plain": [
       "PassengerId      0\n",
       "Survived         0\n",
       "Pclass           0\n",
       "Name             0\n",
       "Sex              0\n",
       "Age              0\n",
       "SibSp            0\n",
       "Parch            0\n",
       "Ticket           0\n",
       "Fare             0\n",
       "Cabin          687\n",
       "Embarked         0\n",
       "Title            0\n",
       "dtype: int64"
      ]
     },
     "execution_count": 551,
     "metadata": {},
     "output_type": "execute_result"
    }
   ],
   "source": [
    "titanic.isnull().sum()"
   ]
  },
  {
   "cell_type": "markdown",
   "id": "f6202d3a",
   "metadata": {},
   "source": [
    "#### Drawing Some Tables and Graphs Related to Age Feature"
   ]
  },
  {
   "cell_type": "code",
   "execution_count": 552,
   "id": "9bdf10e3",
   "metadata": {},
   "outputs": [
    {
     "data": {
      "text/plain": [
       "<seaborn.axisgrid.FacetGrid at 0x186ae0cf2e0>"
      ]
     },
     "execution_count": 552,
     "metadata": {},
     "output_type": "execute_result"
    },
    {
     "data": {
      "image/png": "[encoded data removed]",
      "text/plain": [
       "<Figure size 1800x360 with 5 Axes>"
      ]
     },
     "metadata": {},
     "output_type": "display_data"
    }
   ],
   "source": [
    "sns.factorplot(x='Pclass',y='Survived',col='Title',data=titanic)"
   ]
  },
  {
   "cell_type": "markdown",
   "id": "085280e3",
   "metadata": {},
   "source": [
    "Let's start by getting the describive stats and drawing some tables and graphs."
   ]
  },
  {
   "cell_type": "code",
   "execution_count": 553,
   "id": "4db595d0",
   "metadata": {},
   "outputs": [
    {
     "data": {
      "text/plain": [
       "count    891.000000\n",
       "mean      29.463715\n",
       "std       13.559607\n",
       "min        0.420000\n",
       "25%       21.000000\n",
       "50%       29.000000\n",
       "75%       36.750000\n",
       "max       80.000000\n",
       "Name: Age, dtype: float64"
      ]
     },
     "execution_count": 553,
     "metadata": {},
     "output_type": "execute_result"
    }
   ],
   "source": [
    "titanic['Age'].describe(include=all)"
   ]
  },
  {
   "cell_type": "code",
   "execution_count": 554,
   "id": "c560ed0b",
   "metadata": {},
   "outputs": [
    {
     "data": {
      "text/plain": [
       "<AxesSubplot:ylabel='Frequency'>"
      ]
     },
     "execution_count": 554,
     "metadata": {},
     "output_type": "execute_result"
    },
    {
     "data": {
      "image/png": "[encoded data removed]",
      "text/plain": [
       "<Figure size 864x288 with 1 Axes>"
      ]
     },
     "metadata": {},
     "output_type": "display_data"
    }
   ],
   "source": [
    "titanic['Age'].plot(kind='hist',bins=30,xlim=(0,75),figsize=(12,4))"
   ]
  },
  {
   "cell_type": "markdown",
   "id": "877ab132",
   "metadata": {},
   "source": [
    "#### Let's create a new feature 'AgeBins' which will have 5 equal numbers of passengers based on their Age."
   ]
  },
  {
   "cell_type": "code",
   "execution_count": 555,
   "id": "585e9d1d",
   "metadata": {},
   "outputs": [
    {
     "data": {
      "text/plain": [
       "AgeBins\n",
       "(0.419, 19.0]    201\n",
       "(19.0, 26.0]     157\n",
       "(26.0, 30.0]     181\n",
       "(30.0, 40.5]     175\n",
       "(40.5, 80.0]     177\n",
       "Name: AgeBins, dtype: int64"
      ]
     },
     "execution_count": 555,
     "metadata": {},
     "output_type": "execute_result"
    }
   ],
   "source": [
    "titanic['AgeBins'] = 0 \n",
    "\n",
    "# Divides data into five equal bins\n",
    "titanic['AgeBins']=pd.qcut(titanic['Age'],5)\n",
    "\n",
    "# Confirms the values in each bin\n",
    "titanic.groupby('AgeBins')['AgeBins'].count()"
   ]
  },
  {
   "cell_type": "code",
   "execution_count": 556,
   "id": "58b34eed",
   "metadata": {},
   "outputs": [
    {
     "data": {
      "text/html": [
       "<div>\n",
       "<style scoped>\n",
       "    .dataframe tbody tr th:only-of-type {\n",
       "        vertical-align: middle;\n",
       "    }\n",
       "\n",
       "    .dataframe tbody tr th {\n",
       "        vertical-align: top;\n",
       "    }\n",
       "\n",
       "    .dataframe thead th {\n",
       "        text-align: right;\n",
       "    }\n",
       "</style>\n",
       "<table border=\"1\" class=\"dataframe\">\n",
       "  <thead>\n",
       "    <tr style=\"text-align: right;\">\n",
       "      <th>Survived</th>\n",
       "      <th>0</th>\n",
       "      <th>1</th>\n",
       "      <th>All</th>\n",
       "    </tr>\n",
       "    <tr>\n",
       "      <th>AgeBins</th>\n",
       "      <th></th>\n",
       "      <th></th>\n",
       "      <th></th>\n",
       "    </tr>\n",
       "  </thead>\n",
       "  <tbody>\n",
       "    <tr>\n",
       "      <th>(0.419, 19.0]</th>\n",
       "      <td>101</td>\n",
       "      <td>100</td>\n",
       "      <td>201</td>\n",
       "    </tr>\n",
       "    <tr>\n",
       "      <th>(19.0, 26.0]</th>\n",
       "      <td>104</td>\n",
       "      <td>53</td>\n",
       "      <td>157</td>\n",
       "    </tr>\n",
       "    <tr>\n",
       "      <th>(26.0, 30.0]</th>\n",
       "      <td>137</td>\n",
       "      <td>44</td>\n",
       "      <td>181</td>\n",
       "    </tr>\n",
       "    <tr>\n",
       "      <th>(30.0, 40.5]</th>\n",
       "      <td>98</td>\n",
       "      <td>77</td>\n",
       "      <td>175</td>\n",
       "    </tr>\n",
       "    <tr>\n",
       "      <th>(40.5, 80.0]</th>\n",
       "      <td>109</td>\n",
       "      <td>68</td>\n",
       "      <td>177</td>\n",
       "    </tr>\n",
       "    <tr>\n",
       "      <th>All</th>\n",
       "      <td>549</td>\n",
       "      <td>342</td>\n",
       "      <td>891</td>\n",
       "    </tr>\n",
       "  </tbody>\n",
       "</table>\n",
       "</div>"
      ],
      "text/plain": [
       "Survived         0    1  All\n",
       "AgeBins                     \n",
       "(0.419, 19.0]  101  100  201\n",
       "(19.0, 26.0]   104   53  157\n",
       "(26.0, 30.0]   137   44  181\n",
       "(30.0, 40.5]    98   77  175\n",
       "(40.5, 80.0]   109   68  177\n",
       "All            549  342  891"
      ]
     },
     "execution_count": 556,
     "metadata": {},
     "output_type": "execute_result"
    }
   ],
   "source": [
    "pd.crosstab(titanic['AgeBins'],titanic['Survived'],margins=True)"
   ]
  },
  {
   "cell_type": "markdown",
   "id": "b6cc3002",
   "metadata": {},
   "source": [
    "#### Graphical Representation Survival Vs AgeBins"
   ]
  },
  {
   "cell_type": "code",
   "execution_count": 557,
   "id": "704d2f65",
   "metadata": {},
   "outputs": [
    {
     "data": {
      "text/plain": [
       "Text(0.5, 1.0, 'Survival vs. Age Bins')"
      ]
     },
     "execution_count": 557,
     "metadata": {},
     "output_type": "execute_result"
    },
    {
     "data": {
      "image/png": "[encoded data removed]",
      "text/plain": [
       "<Figure size 720x360 with 1 Axes>"
      ]
     },
     "metadata": {},
     "output_type": "display_data"
    }
   ],
   "source": [
    "plt.figure(figsize=(10,5))\n",
    "sns.countplot(x='AgeBins',hue='Survived',data=titanic,palette='rainbow') \n",
    "plt.title('Survival vs. Age Bins')"
   ]
  },
  {
   "cell_type": "markdown",
   "id": "53dda092",
   "metadata": {},
   "source": [
    "#### Graphical Representation of AgeBins Vs Gender"
   ]
  },
  {
   "cell_type": "code",
   "execution_count": 558,
   "id": "4677e5ee",
   "metadata": {},
   "outputs": [
    {
     "data": {
      "text/plain": [
       "Text(0.5, 1.0, 'Age Bins vs. Gender')"
      ]
     },
     "execution_count": 558,
     "metadata": {},
     "output_type": "execute_result"
    },
    {
     "data": {
      "image/png": "[encoded data removed]",
      "text/plain": [
       "<Figure size 720x360 with 1 Axes>"
      ]
     },
     "metadata": {},
     "output_type": "display_data"
    }
   ],
   "source": [
    "plt.figure(figsize=(10,5))\n",
    "sns.countplot(x='AgeBins',hue='Sex',data=titanic,palette='rainbow')   # AgeBins vs. Gender (Sex)\n",
    "plt.title('Age Bins vs. Gender')"
   ]
  },
  {
   "cell_type": "markdown",
   "id": "fb14940a",
   "metadata": {},
   "source": [
    "#### Strip plot of Age vs. Pclass"
   ]
  },
  {
   "cell_type": "code",
   "execution_count": 559,
   "id": "430ad5e1",
   "metadata": {},
   "outputs": [
    {
     "data": {
      "text/plain": [
       "Text(0.5, 1.0, 'Age vs. Class')"
      ]
     },
     "execution_count": 559,
     "metadata": {},
     "output_type": "execute_result"
    },
    {
     "data": {
      "image/png": "[encoded data removed]",
      "text/plain": [
       "<Figure size 720x360 with 1 Axes>"
      ]
     },
     "metadata": {},
     "output_type": "display_data"
    }
   ],
   "source": [
    "plt.figure(figsize=(10,5))\n",
    "sns.stripplot(data=titanic, x='Pclass', y= 'Age',size=7)       \n",
    "plt.title('Age vs. Class')"
   ]
  },
  {
   "cell_type": "markdown",
   "id": "c906f4aa",
   "metadata": {},
   "source": [
    "#### Predicting No. of Child Passengers"
   ]
  },
  {
   "cell_type": "code",
   "execution_count": 560,
   "id": "3fb3e9d7",
   "metadata": {},
   "outputs": [
    {
     "data": {
      "text/html": [
       "<div>\n",
       "<style scoped>\n",
       "    .dataframe tbody tr th:only-of-type {\n",
       "        vertical-align: middle;\n",
       "    }\n",
       "\n",
       "    .dataframe tbody tr th {\n",
       "        vertical-align: top;\n",
       "    }\n",
       "\n",
       "    .dataframe thead th {\n",
       "        text-align: right;\n",
       "    }\n",
       "</style>\n",
       "<table border=\"1\" class=\"dataframe\">\n",
       "  <thead>\n",
       "    <tr style=\"text-align: right;\">\n",
       "      <th></th>\n",
       "      <th>PassengerId</th>\n",
       "      <th>Survived</th>\n",
       "      <th>Pclass</th>\n",
       "      <th>Name</th>\n",
       "      <th>Sex</th>\n",
       "      <th>Age</th>\n",
       "      <th>SibSp</th>\n",
       "      <th>Parch</th>\n",
       "      <th>Ticket</th>\n",
       "      <th>Fare</th>\n",
       "      <th>Cabin</th>\n",
       "      <th>Embarked</th>\n",
       "      <th>Title</th>\n",
       "      <th>AgeBins</th>\n",
       "    </tr>\n",
       "  </thead>\n",
       "  <tbody>\n",
       "    <tr>\n",
       "      <th>9</th>\n",
       "      <td>10</td>\n",
       "      <td>1</td>\n",
       "      <td>2</td>\n",
       "      <td>Nasser, Mrs. Nicholas (Adele Achem)</td>\n",
       "      <td>female</td>\n",
       "      <td>14.0</td>\n",
       "      <td>1</td>\n",
       "      <td>0</td>\n",
       "      <td>237736</td>\n",
       "      <td>30.0708</td>\n",
       "      <td>NaN</td>\n",
       "      <td>C</td>\n",
       "      <td>Mrs</td>\n",
       "      <td>(0.419, 19.0]</td>\n",
       "    </tr>\n",
       "    <tr>\n",
       "      <th>830</th>\n",
       "      <td>831</td>\n",
       "      <td>1</td>\n",
       "      <td>3</td>\n",
       "      <td>Yasbeck, Mrs. Antoni (Selini Alexander)</td>\n",
       "      <td>female</td>\n",
       "      <td>15.0</td>\n",
       "      <td>1</td>\n",
       "      <td>0</td>\n",
       "      <td>2659</td>\n",
       "      <td>14.4542</td>\n",
       "      <td>NaN</td>\n",
       "      <td>C</td>\n",
       "      <td>Mrs</td>\n",
       "      <td>(0.419, 19.0]</td>\n",
       "    </tr>\n",
       "  </tbody>\n",
       "</table>\n",
       "</div>"
      ],
      "text/plain": [
       "     PassengerId  Survived  Pclass                                     Name  \\\n",
       "9             10         1       2      Nasser, Mrs. Nicholas (Adele Achem)   \n",
       "830          831         1       3  Yasbeck, Mrs. Antoni (Selini Alexander)   \n",
       "\n",
       "        Sex   Age  SibSp  Parch  Ticket     Fare Cabin Embarked Title  \\\n",
       "9    female  14.0      1      0  237736  30.0708   NaN        C   Mrs   \n",
       "830  female  15.0      1      0    2659  14.4542   NaN        C   Mrs   \n",
       "\n",
       "           AgeBins  \n",
       "9    (0.419, 19.0]  \n",
       "830  (0.419, 19.0]  "
      ]
     },
     "execution_count": 560,
     "metadata": {},
     "output_type": "execute_result"
    }
   ],
   "source": [
    "titanic[(titanic['Age'] <= 16) & (titanic['Title'] == 'Mrs')]"
   ]
  },
  {
   "cell_type": "markdown",
   "id": "05d7274d",
   "metadata": {},
   "source": [
    "The reason for exclusion based on title \"Mrs\" is because there were two female passengers aged 14 and 15 and their titles were 'Mrs' (as shown above)."
   ]
  },
  {
   "cell_type": "code",
   "execution_count": 561,
   "id": "ab8a5b88",
   "metadata": {},
   "outputs": [
    {
     "data": {
      "text/plain": [
       "135"
      ]
     },
     "execution_count": 561,
     "metadata": {},
     "output_type": "execute_result"
    }
   ],
   "source": [
    "titanic[(titanic['Age'] <= 16) & (titanic['Title'] !='Mrs')]['Age'].count() # Count of Child Passengers"
   ]
  },
  {
   "cell_type": "markdown",
   "id": "b847a60d",
   "metadata": {},
   "source": [
    "Total no. of Child Passengers is 135"
   ]
  },
  {
   "cell_type": "code",
   "execution_count": 562,
   "id": "50cbdb44",
   "metadata": {},
   "outputs": [
    {
     "data": {
      "text/html": [
       "<div>\n",
       "<style scoped>\n",
       "    .dataframe tbody tr th:only-of-type {\n",
       "        vertical-align: middle;\n",
       "    }\n",
       "\n",
       "    .dataframe tbody tr th {\n",
       "        vertical-align: top;\n",
       "    }\n",
       "\n",
       "    .dataframe thead th {\n",
       "        text-align: right;\n",
       "    }\n",
       "</style>\n",
       "<table border=\"1\" class=\"dataframe\">\n",
       "  <thead>\n",
       "    <tr style=\"text-align: right;\">\n",
       "      <th>Survived</th>\n",
       "      <th>0</th>\n",
       "      <th>1</th>\n",
       "      <th>All</th>\n",
       "    </tr>\n",
       "    <tr>\n",
       "      <th>Child</th>\n",
       "      <th></th>\n",
       "      <th></th>\n",
       "      <th></th>\n",
       "    </tr>\n",
       "  </thead>\n",
       "  <tbody>\n",
       "    <tr>\n",
       "      <th>0</th>\n",
       "      <td>488</td>\n",
       "      <td>268</td>\n",
       "      <td>756</td>\n",
       "    </tr>\n",
       "    <tr>\n",
       "      <th>1</th>\n",
       "      <td>61</td>\n",
       "      <td>74</td>\n",
       "      <td>135</td>\n",
       "    </tr>\n",
       "    <tr>\n",
       "      <th>All</th>\n",
       "      <td>549</td>\n",
       "      <td>342</td>\n",
       "      <td>891</td>\n",
       "    </tr>\n",
       "  </tbody>\n",
       "</table>\n",
       "</div>"
      ],
      "text/plain": [
       "Survived    0    1  All\n",
       "Child                  \n",
       "0         488  268  756\n",
       "1          61   74  135\n",
       "All       549  342  891"
      ]
     },
     "execution_count": 562,
     "metadata": {},
     "output_type": "execute_result"
    }
   ],
   "source": [
    "titanic['Child'] = 0                      # Creates a new feature \"Child\" and assigns initial value '0'\n",
    "titanic.loc[(titanic['Age'] <= 16) & (titanic['Title'] !='Mrs'),'Child'] = 1 \n",
    "# Assigns value '1' to all Children based on the above-mentioned criteria\n",
    "titanic.Child.value_counts()\n",
    "# Reconfirms that values have been successfully put\n",
    "pd.crosstab(titanic['Child'],titanic['Survived'],margins=True) "
   ]
  },
  {
   "cell_type": "markdown",
   "id": "426cfa97",
   "metadata": {},
   "source": [
    "#### Children survived Vs Died"
   ]
  },
  {
   "cell_type": "code",
   "execution_count": 563,
   "id": "8fd666af",
   "metadata": {},
   "outputs": [
    {
     "data": {
      "text/plain": [
       "Text(0.5, 1.0, 'Children Survival')"
      ]
     },
     "execution_count": 563,
     "metadata": {},
     "output_type": "execute_result"
    },
    {
     "data": {
      "image/png": "[encoded data removed]",
      "text/plain": [
       "<Figure size 360x360 with 1 Axes>"
      ]
     },
     "metadata": {},
     "output_type": "display_data"
    }
   ],
   "source": [
    "sns.factorplot('Child','Survived',data=titanic)       \n",
    "plt.title('Children Survival')"
   ]
  },
  {
   "cell_type": "markdown",
   "id": "5929f077",
   "metadata": {},
   "source": [
    "### Cabin \n",
    " The Cabin column has significantly large number of missing values, i.e. 687"
   ]
  },
  {
   "cell_type": "markdown",
   "id": "68315474",
   "metadata": {},
   "source": [
    "Let's create a new column \"Deck\" using the first character of Cabin Number.Let's check first few rows in the titanic dataset to see how the new feature looks like. Please note that the \"NaN' values will appear with a small \"n\"."
   ]
  },
  {
   "cell_type": "code",
   "execution_count": 564,
   "id": "f3b47505",
   "metadata": {},
   "outputs": [
    {
     "data": {
      "text/html": [
       "<div>\n",
       "<style scoped>\n",
       "    .dataframe tbody tr th:only-of-type {\n",
       "        vertical-align: middle;\n",
       "    }\n",
       "\n",
       "    .dataframe tbody tr th {\n",
       "        vertical-align: top;\n",
       "    }\n",
       "\n",
       "    .dataframe thead th {\n",
       "        text-align: right;\n",
       "    }\n",
       "</style>\n",
       "<table border=\"1\" class=\"dataframe\">\n",
       "  <thead>\n",
       "    <tr style=\"text-align: right;\">\n",
       "      <th></th>\n",
       "      <th>PassengerId</th>\n",
       "      <th>Survived</th>\n",
       "      <th>Pclass</th>\n",
       "      <th>Name</th>\n",
       "      <th>Sex</th>\n",
       "      <th>Age</th>\n",
       "      <th>SibSp</th>\n",
       "      <th>Parch</th>\n",
       "      <th>Ticket</th>\n",
       "      <th>Fare</th>\n",
       "      <th>Cabin</th>\n",
       "      <th>Embarked</th>\n",
       "      <th>Title</th>\n",
       "      <th>AgeBins</th>\n",
       "      <th>Child</th>\n",
       "      <th>Deck</th>\n",
       "    </tr>\n",
       "  </thead>\n",
       "  <tbody>\n",
       "    <tr>\n",
       "      <th>0</th>\n",
       "      <td>1</td>\n",
       "      <td>0</td>\n",
       "      <td>3</td>\n",
       "      <td>Braund, Mr. Owen Harris</td>\n",
       "      <td>male</td>\n",
       "      <td>22.0</td>\n",
       "      <td>1</td>\n",
       "      <td>0</td>\n",
       "      <td>A/5 21171</td>\n",
       "      <td>7.2500</td>\n",
       "      <td>NaN</td>\n",
       "      <td>S</td>\n",
       "      <td>Mr</td>\n",
       "      <td>(19.0, 26.0]</td>\n",
       "      <td>0</td>\n",
       "      <td>n</td>\n",
       "    </tr>\n",
       "    <tr>\n",
       "      <th>1</th>\n",
       "      <td>2</td>\n",
       "      <td>1</td>\n",
       "      <td>1</td>\n",
       "      <td>Cumings, Mrs. John Bradley (Florence Briggs Th...</td>\n",
       "      <td>female</td>\n",
       "      <td>38.0</td>\n",
       "      <td>1</td>\n",
       "      <td>0</td>\n",
       "      <td>PC 17599</td>\n",
       "      <td>71.2833</td>\n",
       "      <td>C85</td>\n",
       "      <td>C</td>\n",
       "      <td>Mrs</td>\n",
       "      <td>(30.0, 40.5]</td>\n",
       "      <td>0</td>\n",
       "      <td>C</td>\n",
       "    </tr>\n",
       "    <tr>\n",
       "      <th>2</th>\n",
       "      <td>3</td>\n",
       "      <td>1</td>\n",
       "      <td>3</td>\n",
       "      <td>Heikkinen, Miss. Laina</td>\n",
       "      <td>female</td>\n",
       "      <td>26.0</td>\n",
       "      <td>0</td>\n",
       "      <td>0</td>\n",
       "      <td>STON/O2. 3101282</td>\n",
       "      <td>7.9250</td>\n",
       "      <td>NaN</td>\n",
       "      <td>S</td>\n",
       "      <td>Miss</td>\n",
       "      <td>(19.0, 26.0]</td>\n",
       "      <td>0</td>\n",
       "      <td>n</td>\n",
       "    </tr>\n",
       "  </tbody>\n",
       "</table>\n",
       "</div>"
      ],
      "text/plain": [
       "   PassengerId  Survived  Pclass  \\\n",
       "0            1         0       3   \n",
       "1            2         1       1   \n",
       "2            3         1       3   \n",
       "\n",
       "                                                Name     Sex   Age  SibSp  \\\n",
       "0                            Braund, Mr. Owen Harris    male  22.0      1   \n",
       "1  Cumings, Mrs. John Bradley (Florence Briggs Th...  female  38.0      1   \n",
       "2                             Heikkinen, Miss. Laina  female  26.0      0   \n",
       "\n",
       "   Parch            Ticket     Fare Cabin Embarked Title       AgeBins  Child  \\\n",
       "0      0         A/5 21171   7.2500   NaN        S    Mr  (19.0, 26.0]      0   \n",
       "1      0          PC 17599  71.2833   C85        C   Mrs  (30.0, 40.5]      0   \n",
       "2      0  STON/O2. 3101282   7.9250   NaN        S  Miss  (19.0, 26.0]      0   \n",
       "\n",
       "  Deck  \n",
       "0    n  \n",
       "1    C  \n",
       "2    n  "
      ]
     },
     "execution_count": 564,
     "metadata": {},
     "output_type": "execute_result"
    }
   ],
   "source": [
    "titanic['Deck'] = titanic['Cabin'].astype(str).str[0]\n",
    "titanic.head(3)"
   ]
  },
  {
   "cell_type": "markdown",
   "id": "5887803f",
   "metadata": {},
   "source": [
    "#### Count the value in the Deck Column"
   ]
  },
  {
   "cell_type": "code",
   "execution_count": 565,
   "id": "1c44fecc",
   "metadata": {},
   "outputs": [
    {
     "data": {
      "text/plain": [
       "n    687\n",
       "C     59\n",
       "B     47\n",
       "D     33\n",
       "E     32\n",
       "A     15\n",
       "F     13\n",
       "G      4\n",
       "T      1\n",
       "Name: Deck, dtype: int64"
      ]
     },
     "execution_count": 565,
     "metadata": {},
     "output_type": "execute_result"
    }
   ],
   "source": [
    "titanic.Deck.value_counts()"
   ]
  },
  {
   "cell_type": "code",
   "execution_count": 566,
   "id": "a09f32f2",
   "metadata": {},
   "outputs": [
    {
     "data": {
      "text/html": [
       "<div>\n",
       "<style scoped>\n",
       "    .dataframe tbody tr th:only-of-type {\n",
       "        vertical-align: middle;\n",
       "    }\n",
       "\n",
       "    .dataframe tbody tr th {\n",
       "        vertical-align: top;\n",
       "    }\n",
       "\n",
       "    .dataframe thead th {\n",
       "        text-align: right;\n",
       "    }\n",
       "</style>\n",
       "<table border=\"1\" class=\"dataframe\">\n",
       "  <thead>\n",
       "    <tr style=\"text-align: right;\">\n",
       "      <th>Survived</th>\n",
       "      <th>0</th>\n",
       "      <th>1</th>\n",
       "      <th>All</th>\n",
       "    </tr>\n",
       "    <tr>\n",
       "      <th>Deck</th>\n",
       "      <th></th>\n",
       "      <th></th>\n",
       "      <th></th>\n",
       "    </tr>\n",
       "  </thead>\n",
       "  <tbody>\n",
       "    <tr>\n",
       "      <th>A</th>\n",
       "      <td>8</td>\n",
       "      <td>7</td>\n",
       "      <td>15</td>\n",
       "    </tr>\n",
       "    <tr>\n",
       "      <th>B</th>\n",
       "      <td>12</td>\n",
       "      <td>35</td>\n",
       "      <td>47</td>\n",
       "    </tr>\n",
       "    <tr>\n",
       "      <th>C</th>\n",
       "      <td>24</td>\n",
       "      <td>35</td>\n",
       "      <td>59</td>\n",
       "    </tr>\n",
       "    <tr>\n",
       "      <th>D</th>\n",
       "      <td>8</td>\n",
       "      <td>25</td>\n",
       "      <td>33</td>\n",
       "    </tr>\n",
       "    <tr>\n",
       "      <th>E</th>\n",
       "      <td>8</td>\n",
       "      <td>24</td>\n",
       "      <td>32</td>\n",
       "    </tr>\n",
       "    <tr>\n",
       "      <th>F</th>\n",
       "      <td>5</td>\n",
       "      <td>8</td>\n",
       "      <td>13</td>\n",
       "    </tr>\n",
       "    <tr>\n",
       "      <th>G</th>\n",
       "      <td>2</td>\n",
       "      <td>2</td>\n",
       "      <td>4</td>\n",
       "    </tr>\n",
       "    <tr>\n",
       "      <th>T</th>\n",
       "      <td>1</td>\n",
       "      <td>0</td>\n",
       "      <td>1</td>\n",
       "    </tr>\n",
       "    <tr>\n",
       "      <th>n</th>\n",
       "      <td>481</td>\n",
       "      <td>206</td>\n",
       "      <td>687</td>\n",
       "    </tr>\n",
       "    <tr>\n",
       "      <th>All</th>\n",
       "      <td>549</td>\n",
       "      <td>342</td>\n",
       "      <td>891</td>\n",
       "    </tr>\n",
       "  </tbody>\n",
       "</table>\n",
       "</div>"
      ],
      "text/plain": [
       "Survived    0    1  All\n",
       "Deck                   \n",
       "A           8    7   15\n",
       "B          12   35   47\n",
       "C          24   35   59\n",
       "D           8   25   33\n",
       "E           8   24   32\n",
       "F           5    8   13\n",
       "G           2    2    4\n",
       "T           1    0    1\n",
       "n         481  206  687\n",
       "All       549  342  891"
      ]
     },
     "execution_count": 566,
     "metadata": {},
     "output_type": "execute_result"
    }
   ],
   "source": [
    "pd.crosstab(titanic['Deck'],titanic['Survived'],margins=True)"
   ]
  },
  {
   "cell_type": "markdown",
   "id": "dc8992b3",
   "metadata": {},
   "source": [
    "#### Create a new feature \"IsCabin\" to indicate whether or not the cabin is available."
   ]
  },
  {
   "cell_type": "code",
   "execution_count": 567,
   "id": "55341401",
   "metadata": {},
   "outputs": [
    {
     "data": {
      "text/plain": [
       "0    687\n",
       "1    204\n",
       "Name: IsCabin, dtype: int64"
      ]
     },
     "execution_count": 567,
     "metadata": {},
     "output_type": "execute_result"
    }
   ],
   "source": [
    "titanic['IsCabin'] = 1\n",
    "titanic.loc[titanic['Cabin'].isnull(),'IsCabin'] = 0\n",
    "titanic['IsCabin'].value_counts() "
   ]
  },
  {
   "cell_type": "markdown",
   "id": "6073bf24",
   "metadata": {},
   "source": [
    "#### IsCabin Vs Survived"
   ]
  },
  {
   "cell_type": "code",
   "execution_count": 568,
   "id": "684e56a5",
   "metadata": {},
   "outputs": [
    {
     "data": {
      "text/plain": [
       "<seaborn.axisgrid.FacetGrid at 0x186aeab5e50>"
      ]
     },
     "execution_count": 568,
     "metadata": {},
     "output_type": "execute_result"
    },
    {
     "data": {
      "image/png": "[encoded data removed]",
      "text/plain": [
       "<Figure size 1146.12x360 with 3 Axes>"
      ]
     },
     "metadata": {},
     "output_type": "display_data"
    }
   ],
   "source": [
    "sns.factorplot(x='IsCabin',y='Survived',col='Pclass',hue='Sex',data=titanic, palette='rainbow')"
   ]
  },
  {
   "cell_type": "markdown",
   "id": "ca8c9dba",
   "metadata": {},
   "source": [
    "#### PClass impact on survival Chances"
   ]
  },
  {
   "cell_type": "markdown",
   "id": "40a3c641",
   "metadata": {},
   "source": [
    "Let's first count the passengers travelled in each class and the number of passengers survived and died per class of travel."
   ]
  },
  {
   "cell_type": "code",
   "execution_count": 569,
   "id": "abd0358f",
   "metadata": {},
   "outputs": [
    {
     "data": {
      "text/html": [
       "<div>\n",
       "<style scoped>\n",
       "    .dataframe tbody tr th:only-of-type {\n",
       "        vertical-align: middle;\n",
       "    }\n",
       "\n",
       "    .dataframe tbody tr th {\n",
       "        vertical-align: top;\n",
       "    }\n",
       "\n",
       "    .dataframe thead th {\n",
       "        text-align: right;\n",
       "    }\n",
       "</style>\n",
       "<table border=\"1\" class=\"dataframe\">\n",
       "  <thead>\n",
       "    <tr style=\"text-align: right;\">\n",
       "      <th>Survived</th>\n",
       "      <th>0</th>\n",
       "      <th>1</th>\n",
       "      <th>All</th>\n",
       "    </tr>\n",
       "    <tr>\n",
       "      <th>Pclass</th>\n",
       "      <th></th>\n",
       "      <th></th>\n",
       "      <th></th>\n",
       "    </tr>\n",
       "  </thead>\n",
       "  <tbody>\n",
       "    <tr>\n",
       "      <th>1</th>\n",
       "      <td>80</td>\n",
       "      <td>136</td>\n",
       "      <td>216</td>\n",
       "    </tr>\n",
       "    <tr>\n",
       "      <th>2</th>\n",
       "      <td>97</td>\n",
       "      <td>87</td>\n",
       "      <td>184</td>\n",
       "    </tr>\n",
       "    <tr>\n",
       "      <th>3</th>\n",
       "      <td>372</td>\n",
       "      <td>119</td>\n",
       "      <td>491</td>\n",
       "    </tr>\n",
       "    <tr>\n",
       "      <th>All</th>\n",
       "      <td>549</td>\n",
       "      <td>342</td>\n",
       "      <td>891</td>\n",
       "    </tr>\n",
       "  </tbody>\n",
       "</table>\n",
       "</div>"
      ],
      "text/plain": [
       "Survived    0    1  All\n",
       "Pclass                 \n",
       "1          80  136  216\n",
       "2          97   87  184\n",
       "3         372  119  491\n",
       "All       549  342  891"
      ]
     },
     "execution_count": 569,
     "metadata": {},
     "output_type": "execute_result"
    }
   ],
   "source": [
    "pd.crosstab(titanic['Pclass'],titanic['Survived'],margins=True,)"
   ]
  },
  {
   "cell_type": "markdown",
   "id": "4bd15036",
   "metadata": {},
   "source": [
    "#### Percentage of passengers travelled per class of travel"
   ]
  },
  {
   "cell_type": "code",
   "execution_count": 570,
   "id": "4346c753",
   "metadata": {},
   "outputs": [
    {
     "data": {
      "text/plain": [
       "Text(0.5, 1.0, 'Passengers per Class of Travel (%age)')"
      ]
     },
     "execution_count": 570,
     "metadata": {},
     "output_type": "execute_result"
    },
    {
     "data": {
      "image/png": "[encoded data removed]",
      "text/plain": [
       "<Figure size 504x504 with 1 Axes>"
      ]
     },
     "metadata": {},
     "output_type": "display_data"
    }
   ],
   "source": [
    "titanic['Pclass'].value_counts().plot.pie(explode=[0.02,0.02,0.02],autopct='%1.1f%%',figsize=(7,7))\n",
    "plt.title('Passengers per Class of Travel (%age)')"
   ]
  },
  {
   "cell_type": "markdown",
   "id": "8a9d6242",
   "metadata": {},
   "source": [
    "#### Survived vs. Died per class of travel"
   ]
  },
  {
   "cell_type": "code",
   "execution_count": 571,
   "id": "4bf08243",
   "metadata": {},
   "outputs": [
    {
     "data": {
      "text/plain": [
       "Text(0.5, 1.0, 'Survival vs. Class of Travel')"
      ]
     },
     "execution_count": 571,
     "metadata": {},
     "output_type": "execute_result"
    },
    {
     "data": {
      "image/png": "[encoded data removed]",
      "text/plain": [
       "<Figure size 720x360 with 1 Axes>"
      ]
     },
     "metadata": {},
     "output_type": "display_data"
    }
   ],
   "source": [
    "plt.figure(figsize=(10,5))\n",
    "sns.countplot(x='Pclass',hue='Survived',data=titanic,palette='rainbow')    \n",
    "plt.title('Survival vs. Class of Travel')"
   ]
  },
  {
   "cell_type": "code",
   "execution_count": 572,
   "id": "78504a5b",
   "metadata": {},
   "outputs": [
    {
     "data": {
      "text/plain": [
       "<seaborn.axisgrid.FacetGrid at 0x186aeef65e0>"
      ]
     },
     "execution_count": 572,
     "metadata": {},
     "output_type": "execute_result"
    },
    {
     "data": {
      "text/plain": [
       "<Figure size 576x360 with 0 Axes>"
      ]
     },
     "metadata": {},
     "output_type": "display_data"
    },
    {
     "data": {
      "image/png": "[encoded data removed]",
      "text/plain": [
       "<Figure size 1080x360 with 3 Axes>"
      ]
     },
     "metadata": {},
     "output_type": "display_data"
    }
   ],
   "source": [
    "plt.figure(figsize=(8,5))\n",
    "sns.factorplot(x='Sex',y='Survived',col='Pclass',data=titanic)"
   ]
  },
  {
   "cell_type": "markdown",
   "id": "77d9ca1e",
   "metadata": {},
   "source": [
    "#### SibSp- This feature shows the number of siblings travelled together"
   ]
  },
  {
   "cell_type": "markdown",
   "id": "665cf134",
   "metadata": {},
   "source": [
    "Let's plot some graphs and analyse the data to determine it's impact on passengers' survival."
   ]
  },
  {
   "cell_type": "code",
   "execution_count": 573,
   "id": "6d628772",
   "metadata": {},
   "outputs": [
    {
     "data": {
      "text/html": [
       "<div>\n",
       "<style scoped>\n",
       "    .dataframe tbody tr th:only-of-type {\n",
       "        vertical-align: middle;\n",
       "    }\n",
       "\n",
       "    .dataframe tbody tr th {\n",
       "        vertical-align: top;\n",
       "    }\n",
       "\n",
       "    .dataframe thead th {\n",
       "        text-align: right;\n",
       "    }\n",
       "</style>\n",
       "<table border=\"1\" class=\"dataframe\">\n",
       "  <thead>\n",
       "    <tr style=\"text-align: right;\">\n",
       "      <th>Survived</th>\n",
       "      <th>0</th>\n",
       "      <th>1</th>\n",
       "      <th>All</th>\n",
       "    </tr>\n",
       "    <tr>\n",
       "      <th>SibSp</th>\n",
       "      <th></th>\n",
       "      <th></th>\n",
       "      <th></th>\n",
       "    </tr>\n",
       "  </thead>\n",
       "  <tbody>\n",
       "    <tr>\n",
       "      <th>0</th>\n",
       "      <td>398</td>\n",
       "      <td>210</td>\n",
       "      <td>608</td>\n",
       "    </tr>\n",
       "    <tr>\n",
       "      <th>1</th>\n",
       "      <td>97</td>\n",
       "      <td>112</td>\n",
       "      <td>209</td>\n",
       "    </tr>\n",
       "    <tr>\n",
       "      <th>2</th>\n",
       "      <td>15</td>\n",
       "      <td>13</td>\n",
       "      <td>28</td>\n",
       "    </tr>\n",
       "    <tr>\n",
       "      <th>3</th>\n",
       "      <td>12</td>\n",
       "      <td>4</td>\n",
       "      <td>16</td>\n",
       "    </tr>\n",
       "    <tr>\n",
       "      <th>4</th>\n",
       "      <td>15</td>\n",
       "      <td>3</td>\n",
       "      <td>18</td>\n",
       "    </tr>\n",
       "    <tr>\n",
       "      <th>5</th>\n",
       "      <td>5</td>\n",
       "      <td>0</td>\n",
       "      <td>5</td>\n",
       "    </tr>\n",
       "    <tr>\n",
       "      <th>8</th>\n",
       "      <td>7</td>\n",
       "      <td>0</td>\n",
       "      <td>7</td>\n",
       "    </tr>\n",
       "    <tr>\n",
       "      <th>All</th>\n",
       "      <td>549</td>\n",
       "      <td>342</td>\n",
       "      <td>891</td>\n",
       "    </tr>\n",
       "  </tbody>\n",
       "</table>\n",
       "</div>"
      ],
      "text/plain": [
       "Survived    0    1  All\n",
       "SibSp                  \n",
       "0         398  210  608\n",
       "1          97  112  209\n",
       "2          15   13   28\n",
       "3          12    4   16\n",
       "4          15    3   18\n",
       "5           5    0    5\n",
       "8           7    0    7\n",
       "All       549  342  891"
      ]
     },
     "execution_count": 573,
     "metadata": {},
     "output_type": "execute_result"
    }
   ],
   "source": [
    "pd.crosstab(titanic['SibSp'],titanic['Survived'],margins=True)"
   ]
  },
  {
   "cell_type": "markdown",
   "id": "ebaf1d81",
   "metadata": {},
   "source": [
    "####  Graphical representation of passengers survived vs. die based on Siblings and Spouses  "
   ]
  },
  {
   "cell_type": "code",
   "execution_count": 574,
   "id": "9f0ed83c",
   "metadata": {},
   "outputs": [
    {
     "data": {
      "text/plain": [
       "[Text(0.5, 1.0, 'Siblings & Spouses Survival')]"
      ]
     },
     "execution_count": 574,
     "metadata": {},
     "output_type": "execute_result"
    },
    {
     "data": {
      "image/png": "[encoded data removed]",
      "text/plain": [
       "<Figure size 1080x360 with 2 Axes>"
      ]
     },
     "metadata": {},
     "output_type": "display_data"
    }
   ],
   "source": [
    "fig,(ax1,ax2) = plt.subplots(nrows=1,ncols=2,figsize=(15,5))\n",
    "sns.pointplot('SibSp','Survived',hue='Pclass',data=titanic,ax=ax1)\n",
    "ax1.set(title='Siblings & Spouses Survival based on Class of Travel')\n",
    "sns.countplot(x='SibSp',data=titanic,hue='Survived',ax=ax2) \n",
    "ax2.set(title='Siblings & Spouses Survival')"
   ]
  },
  {
   "cell_type": "code",
   "execution_count": 575,
   "id": "4a3e1126",
   "metadata": {},
   "outputs": [
    {
     "data": {
      "text/html": [
       "<div>\n",
       "<style scoped>\n",
       "    .dataframe tbody tr th:only-of-type {\n",
       "        vertical-align: middle;\n",
       "    }\n",
       "\n",
       "    .dataframe tbody tr th {\n",
       "        vertical-align: top;\n",
       "    }\n",
       "\n",
       "    .dataframe thead th {\n",
       "        text-align: right;\n",
       "    }\n",
       "</style>\n",
       "<table border=\"1\" class=\"dataframe\">\n",
       "  <thead>\n",
       "    <tr style=\"text-align: right;\">\n",
       "      <th>Pclass</th>\n",
       "      <th>1</th>\n",
       "      <th>2</th>\n",
       "      <th>3</th>\n",
       "    </tr>\n",
       "    <tr>\n",
       "      <th>SibSp</th>\n",
       "      <th></th>\n",
       "      <th></th>\n",
       "      <th></th>\n",
       "    </tr>\n",
       "  </thead>\n",
       "  <tbody>\n",
       "    <tr>\n",
       "      <th>0</th>\n",
       "      <td>137</td>\n",
       "      <td>120</td>\n",
       "      <td>351</td>\n",
       "    </tr>\n",
       "    <tr>\n",
       "      <th>1</th>\n",
       "      <td>71</td>\n",
       "      <td>55</td>\n",
       "      <td>83</td>\n",
       "    </tr>\n",
       "    <tr>\n",
       "      <th>2</th>\n",
       "      <td>5</td>\n",
       "      <td>8</td>\n",
       "      <td>15</td>\n",
       "    </tr>\n",
       "    <tr>\n",
       "      <th>3</th>\n",
       "      <td>3</td>\n",
       "      <td>1</td>\n",
       "      <td>12</td>\n",
       "    </tr>\n",
       "    <tr>\n",
       "      <th>4</th>\n",
       "      <td>0</td>\n",
       "      <td>0</td>\n",
       "      <td>18</td>\n",
       "    </tr>\n",
       "    <tr>\n",
       "      <th>5</th>\n",
       "      <td>0</td>\n",
       "      <td>0</td>\n",
       "      <td>5</td>\n",
       "    </tr>\n",
       "    <tr>\n",
       "      <th>8</th>\n",
       "      <td>0</td>\n",
       "      <td>0</td>\n",
       "      <td>7</td>\n",
       "    </tr>\n",
       "  </tbody>\n",
       "</table>\n",
       "</div>"
      ],
      "text/plain": [
       "Pclass    1    2    3\n",
       "SibSp                \n",
       "0       137  120  351\n",
       "1        71   55   83\n",
       "2         5    8   15\n",
       "3         3    1   12\n",
       "4         0    0   18\n",
       "5         0    0    5\n",
       "8         0    0    7"
      ]
     },
     "execution_count": 575,
     "metadata": {},
     "output_type": "execute_result"
    }
   ],
   "source": [
    "pd.crosstab(titanic['SibSp'],titanic['Pclass'])"
   ]
  },
  {
   "cell_type": "markdown",
   "id": "86fd98e8",
   "metadata": {},
   "source": [
    "Titanic passengers' data showed a strange pattern. 68% passengers were travelling alone, out of which only 35% survived! There is 54% survival rate of passengers with only one sibling or spouse followed for 46% survival rate for passengers with three siblings / spouse. From that point onwards, the survival rate diminishes as the SibSp number increases."
   ]
  },
  {
   "cell_type": "markdown",
   "id": "14e512c1",
   "metadata": {},
   "source": [
    "#### Parch- This feature shows the number of parents and children travelled together."
   ]
  },
  {
   "cell_type": "markdown",
   "id": "cecb7f4d",
   "metadata": {},
   "source": [
    "Let's plot some graphs and analyse the data to determine it's impact on passengers' survival."
   ]
  },
  {
   "cell_type": "code",
   "execution_count": 576,
   "id": "cb13cf24",
   "metadata": {},
   "outputs": [
    {
     "data": {
      "text/html": [
       "<div>\n",
       "<style scoped>\n",
       "    .dataframe tbody tr th:only-of-type {\n",
       "        vertical-align: middle;\n",
       "    }\n",
       "\n",
       "    .dataframe tbody tr th {\n",
       "        vertical-align: top;\n",
       "    }\n",
       "\n",
       "    .dataframe thead th {\n",
       "        text-align: right;\n",
       "    }\n",
       "</style>\n",
       "<table border=\"1\" class=\"dataframe\">\n",
       "  <thead>\n",
       "    <tr style=\"text-align: right;\">\n",
       "      <th>Survived</th>\n",
       "      <th>0</th>\n",
       "      <th>1</th>\n",
       "      <th>All</th>\n",
       "    </tr>\n",
       "    <tr>\n",
       "      <th>Parch</th>\n",
       "      <th></th>\n",
       "      <th></th>\n",
       "      <th></th>\n",
       "    </tr>\n",
       "  </thead>\n",
       "  <tbody>\n",
       "    <tr>\n",
       "      <th>0</th>\n",
       "      <td>445</td>\n",
       "      <td>233</td>\n",
       "      <td>678</td>\n",
       "    </tr>\n",
       "    <tr>\n",
       "      <th>1</th>\n",
       "      <td>53</td>\n",
       "      <td>65</td>\n",
       "      <td>118</td>\n",
       "    </tr>\n",
       "    <tr>\n",
       "      <th>2</th>\n",
       "      <td>40</td>\n",
       "      <td>40</td>\n",
       "      <td>80</td>\n",
       "    </tr>\n",
       "    <tr>\n",
       "      <th>3</th>\n",
       "      <td>2</td>\n",
       "      <td>3</td>\n",
       "      <td>5</td>\n",
       "    </tr>\n",
       "    <tr>\n",
       "      <th>4</th>\n",
       "      <td>4</td>\n",
       "      <td>0</td>\n",
       "      <td>4</td>\n",
       "    </tr>\n",
       "    <tr>\n",
       "      <th>5</th>\n",
       "      <td>4</td>\n",
       "      <td>1</td>\n",
       "      <td>5</td>\n",
       "    </tr>\n",
       "    <tr>\n",
       "      <th>6</th>\n",
       "      <td>1</td>\n",
       "      <td>0</td>\n",
       "      <td>1</td>\n",
       "    </tr>\n",
       "    <tr>\n",
       "      <th>All</th>\n",
       "      <td>549</td>\n",
       "      <td>342</td>\n",
       "      <td>891</td>\n",
       "    </tr>\n",
       "  </tbody>\n",
       "</table>\n",
       "</div>"
      ],
      "text/plain": [
       "Survived    0    1  All\n",
       "Parch                  \n",
       "0         445  233  678\n",
       "1          53   65  118\n",
       "2          40   40   80\n",
       "3           2    3    5\n",
       "4           4    0    4\n",
       "5           4    1    5\n",
       "6           1    0    1\n",
       "All       549  342  891"
      ]
     },
     "execution_count": 576,
     "metadata": {},
     "output_type": "execute_result"
    }
   ],
   "source": [
    "pd.crosstab(titanic['Parch'],titanic['Survived'],margins=True)"
   ]
  },
  {
   "cell_type": "markdown",
   "id": "8d383aa9",
   "metadata": {},
   "source": [
    "####  Graphical representation of passengers survived vs. die based on Siblings and Parch  "
   ]
  },
  {
   "cell_type": "code",
   "execution_count": 577,
   "id": "5712c890",
   "metadata": {},
   "outputs": [
    {
     "data": {
      "text/plain": [
       "[Text(0.5, 1.0, 'Parents & Children Survival')]"
      ]
     },
     "execution_count": 577,
     "metadata": {},
     "output_type": "execute_result"
    },
    {
     "data": {
      "image/png": "[encoded data removed]",
      "text/plain": [
       "<Figure size 1080x360 with 2 Axes>"
      ]
     },
     "metadata": {},
     "output_type": "display_data"
    }
   ],
   "source": [
    "fig,(ax1,ax2) = plt.subplots(nrows=1,ncols=2,figsize=(15,5))\n",
    "sns.pointplot('Parch','Survived',hue='Pclass',data=titanic,ax=ax1)\n",
    "ax1.set(title='Parent/Child Survival - Based on Class of Travel')\n",
    "sns.countplot(x='Parch',data=titanic,hue='Survived',ax=ax2, palette='rainbow') \n",
    "ax2.set(title='Parents & Children Survival')"
   ]
  },
  {
   "cell_type": "code",
   "execution_count": 578,
   "id": "03a6f7b4",
   "metadata": {},
   "outputs": [
    {
     "data": {
      "text/html": [
       "<div>\n",
       "<style scoped>\n",
       "    .dataframe tbody tr th:only-of-type {\n",
       "        vertical-align: middle;\n",
       "    }\n",
       "\n",
       "    .dataframe tbody tr th {\n",
       "        vertical-align: top;\n",
       "    }\n",
       "\n",
       "    .dataframe thead th {\n",
       "        text-align: right;\n",
       "    }\n",
       "</style>\n",
       "<table border=\"1\" class=\"dataframe\">\n",
       "  <thead>\n",
       "    <tr style=\"text-align: right;\">\n",
       "      <th>Pclass</th>\n",
       "      <th>1</th>\n",
       "      <th>2</th>\n",
       "      <th>3</th>\n",
       "    </tr>\n",
       "    <tr>\n",
       "      <th>Parch</th>\n",
       "      <th></th>\n",
       "      <th></th>\n",
       "      <th></th>\n",
       "    </tr>\n",
       "  </thead>\n",
       "  <tbody>\n",
       "    <tr>\n",
       "      <th>0</th>\n",
       "      <td>163</td>\n",
       "      <td>134</td>\n",
       "      <td>381</td>\n",
       "    </tr>\n",
       "    <tr>\n",
       "      <th>1</th>\n",
       "      <td>31</td>\n",
       "      <td>32</td>\n",
       "      <td>55</td>\n",
       "    </tr>\n",
       "    <tr>\n",
       "      <th>2</th>\n",
       "      <td>21</td>\n",
       "      <td>16</td>\n",
       "      <td>43</td>\n",
       "    </tr>\n",
       "    <tr>\n",
       "      <th>3</th>\n",
       "      <td>0</td>\n",
       "      <td>2</td>\n",
       "      <td>3</td>\n",
       "    </tr>\n",
       "    <tr>\n",
       "      <th>4</th>\n",
       "      <td>1</td>\n",
       "      <td>0</td>\n",
       "      <td>3</td>\n",
       "    </tr>\n",
       "    <tr>\n",
       "      <th>5</th>\n",
       "      <td>0</td>\n",
       "      <td>0</td>\n",
       "      <td>5</td>\n",
       "    </tr>\n",
       "    <tr>\n",
       "      <th>6</th>\n",
       "      <td>0</td>\n",
       "      <td>0</td>\n",
       "      <td>1</td>\n",
       "    </tr>\n",
       "  </tbody>\n",
       "</table>\n",
       "</div>"
      ],
      "text/plain": [
       "Pclass    1    2    3\n",
       "Parch                \n",
       "0       163  134  381\n",
       "1        31   32   55\n",
       "2        21   16   43\n",
       "3         0    2    3\n",
       "4         1    0    3\n",
       "5         0    0    5\n",
       "6         0    0    1"
      ]
     },
     "execution_count": 578,
     "metadata": {},
     "output_type": "execute_result"
    }
   ],
   "source": [
    "pd.crosstab(titanic['Parch'],titanic['Pclass'])"
   ]
  },
  {
   "cell_type": "markdown",
   "id": "2a0b03be",
   "metadata": {},
   "source": [
    "#### FamSize (Family Size)"
   ]
  },
  {
   "cell_type": "markdown",
   "id": "34403e76",
   "metadata": {},
   "source": [
    "FamSize will have the combination of Parch and SibSp values."
   ]
  },
  {
   "cell_type": "markdown",
   "id": "f36a1e07",
   "metadata": {},
   "source": [
    "Creating new feature \"FamSize\" by adding values in \"SibSp\" and \"Parch\""
   ]
  },
  {
   "cell_type": "code",
   "execution_count": 579,
   "id": "03141506",
   "metadata": {},
   "outputs": [],
   "source": [
    "titanic['FamSize'] = titanic['SibSp'] + titanic['Parch'] "
   ]
  },
  {
   "cell_type": "markdown",
   "id": "293c00a6",
   "metadata": {},
   "source": [
    "Let's reconfirm the changes have been done successfully by running the value_counts() statement."
   ]
  },
  {
   "cell_type": "code",
   "execution_count": 580,
   "id": "fec382c6",
   "metadata": {},
   "outputs": [
    {
     "data": {
      "text/plain": [
       "0     537\n",
       "1     161\n",
       "2     102\n",
       "3      29\n",
       "5      22\n",
       "4      15\n",
       "6      12\n",
       "10      7\n",
       "7       6\n",
       "Name: FamSize, dtype: int64"
      ]
     },
     "execution_count": 580,
     "metadata": {},
     "output_type": "execute_result"
    }
   ],
   "source": [
    "titanic.FamSize.value_counts()"
   ]
  },
  {
   "cell_type": "markdown",
   "id": "532eea48",
   "metadata": {},
   "source": [
    "Survival vs. family size "
   ]
  },
  {
   "cell_type": "code",
   "execution_count": 581,
   "id": "574fb89e",
   "metadata": {},
   "outputs": [
    {
     "data": {
      "text/html": [
       "<div>\n",
       "<style scoped>\n",
       "    .dataframe tbody tr th:only-of-type {\n",
       "        vertical-align: middle;\n",
       "    }\n",
       "\n",
       "    .dataframe tbody tr th {\n",
       "        vertical-align: top;\n",
       "    }\n",
       "\n",
       "    .dataframe thead th {\n",
       "        text-align: right;\n",
       "    }\n",
       "</style>\n",
       "<table border=\"1\" class=\"dataframe\">\n",
       "  <thead>\n",
       "    <tr style=\"text-align: right;\">\n",
       "      <th>FamSize</th>\n",
       "      <th>0</th>\n",
       "      <th>1</th>\n",
       "      <th>2</th>\n",
       "      <th>3</th>\n",
       "      <th>4</th>\n",
       "      <th>5</th>\n",
       "      <th>6</th>\n",
       "      <th>7</th>\n",
       "      <th>10</th>\n",
       "      <th>All</th>\n",
       "    </tr>\n",
       "    <tr>\n",
       "      <th>Survived</th>\n",
       "      <th></th>\n",
       "      <th></th>\n",
       "      <th></th>\n",
       "      <th></th>\n",
       "      <th></th>\n",
       "      <th></th>\n",
       "      <th></th>\n",
       "      <th></th>\n",
       "      <th></th>\n",
       "      <th></th>\n",
       "    </tr>\n",
       "  </thead>\n",
       "  <tbody>\n",
       "    <tr>\n",
       "      <th>0</th>\n",
       "      <td>374</td>\n",
       "      <td>72</td>\n",
       "      <td>43</td>\n",
       "      <td>8</td>\n",
       "      <td>12</td>\n",
       "      <td>19</td>\n",
       "      <td>8</td>\n",
       "      <td>6</td>\n",
       "      <td>7</td>\n",
       "      <td>549</td>\n",
       "    </tr>\n",
       "    <tr>\n",
       "      <th>1</th>\n",
       "      <td>163</td>\n",
       "      <td>89</td>\n",
       "      <td>59</td>\n",
       "      <td>21</td>\n",
       "      <td>3</td>\n",
       "      <td>3</td>\n",
       "      <td>4</td>\n",
       "      <td>0</td>\n",
       "      <td>0</td>\n",
       "      <td>342</td>\n",
       "    </tr>\n",
       "    <tr>\n",
       "      <th>All</th>\n",
       "      <td>537</td>\n",
       "      <td>161</td>\n",
       "      <td>102</td>\n",
       "      <td>29</td>\n",
       "      <td>15</td>\n",
       "      <td>22</td>\n",
       "      <td>12</td>\n",
       "      <td>6</td>\n",
       "      <td>7</td>\n",
       "      <td>891</td>\n",
       "    </tr>\n",
       "  </tbody>\n",
       "</table>\n",
       "</div>"
      ],
      "text/plain": [
       "FamSize     0    1    2   3   4   5   6  7  10  All\n",
       "Survived                                           \n",
       "0         374   72   43   8  12  19   8  6   7  549\n",
       "1         163   89   59  21   3   3   4  0   0  342\n",
       "All       537  161  102  29  15  22  12  6   7  891"
      ]
     },
     "execution_count": 581,
     "metadata": {},
     "output_type": "execute_result"
    }
   ],
   "source": [
    "pd.crosstab(titanic['Survived'],titanic['FamSize'],margins=True)"
   ]
  },
  {
   "cell_type": "markdown",
   "id": "43b422f4",
   "metadata": {},
   "source": [
    "#### Alone \n",
    "Alone will have only two values:\n",
    "\n",
    "'0' means not alone\n",
    "\n",
    "'1' mean alone"
   ]
  },
  {
   "cell_type": "code",
   "execution_count": 582,
   "id": "c32e994d",
   "metadata": {},
   "outputs": [
    {
     "data": {
      "text/plain": [
       "1    537\n",
       "0    354\n",
       "Name: Alone, dtype: int64"
      ]
     },
     "execution_count": 582,
     "metadata": {},
     "output_type": "execute_result"
    }
   ],
   "source": [
    "titanic['Alone'] = 0\n",
    "titanic.loc[titanic['FamSize']== 0,'Alone'] = 1 #Populate \"Alone\" with value '1' where family size is '0' \n",
    "\n",
    "# Let's reconfirm the changes have been done successfully by running the value_counts() statement.\n",
    "titanic.Alone.value_counts()"
   ]
  },
  {
   "cell_type": "markdown",
   "id": "a739b38b",
   "metadata": {},
   "source": [
    "Survival vs. Alone feature"
   ]
  },
  {
   "cell_type": "code",
   "execution_count": 583,
   "id": "3b919bd5",
   "metadata": {},
   "outputs": [
    {
     "data": {
      "text/html": [
       "<div>\n",
       "<style scoped>\n",
       "    .dataframe tbody tr th:only-of-type {\n",
       "        vertical-align: middle;\n",
       "    }\n",
       "\n",
       "    .dataframe tbody tr th {\n",
       "        vertical-align: top;\n",
       "    }\n",
       "\n",
       "    .dataframe thead th {\n",
       "        text-align: right;\n",
       "    }\n",
       "</style>\n",
       "<table border=\"1\" class=\"dataframe\">\n",
       "  <thead>\n",
       "    <tr style=\"text-align: right;\">\n",
       "      <th>Survived</th>\n",
       "      <th>0</th>\n",
       "      <th>1</th>\n",
       "      <th>All</th>\n",
       "    </tr>\n",
       "    <tr>\n",
       "      <th>Alone</th>\n",
       "      <th></th>\n",
       "      <th></th>\n",
       "      <th></th>\n",
       "    </tr>\n",
       "  </thead>\n",
       "  <tbody>\n",
       "    <tr>\n",
       "      <th>0</th>\n",
       "      <td>175</td>\n",
       "      <td>179</td>\n",
       "      <td>354</td>\n",
       "    </tr>\n",
       "    <tr>\n",
       "      <th>1</th>\n",
       "      <td>374</td>\n",
       "      <td>163</td>\n",
       "      <td>537</td>\n",
       "    </tr>\n",
       "    <tr>\n",
       "      <th>All</th>\n",
       "      <td>549</td>\n",
       "      <td>342</td>\n",
       "      <td>891</td>\n",
       "    </tr>\n",
       "  </tbody>\n",
       "</table>\n",
       "</div>"
      ],
      "text/plain": [
       "Survived    0    1  All\n",
       "Alone                  \n",
       "0         175  179  354\n",
       "1         374  163  537\n",
       "All       549  342  891"
      ]
     },
     "execution_count": 583,
     "metadata": {},
     "output_type": "execute_result"
    }
   ],
   "source": [
    "pd.crosstab(titanic['Alone'],titanic['Survived'],margins=True) "
   ]
  },
  {
   "cell_type": "markdown",
   "id": "411d92bd",
   "metadata": {},
   "source": [
    "#### Graphical Representation of Survival vs. Alone Based on Gender"
   ]
  },
  {
   "cell_type": "code",
   "execution_count": 584,
   "id": "e5c6b229",
   "metadata": {},
   "outputs": [
    {
     "data": {
      "text/plain": [
       "[Text(0.5, 1.0, 'Survival vs. Alone Based on Gender')]"
      ]
     },
     "execution_count": 584,
     "metadata": {},
     "output_type": "execute_result"
    },
    {
     "data": {
      "image/png": "[encoded data removed]",
      "text/plain": [
       "<Figure size 1080x360 with 2 Axes>"
      ]
     },
     "metadata": {},
     "output_type": "display_data"
    }
   ],
   "source": [
    "f,(ax1,ax2) = plt.subplots(1,2,figsize=(15,5))\n",
    "sns.pointplot('FamSize','Survived',data=titanic,ax=ax1)\n",
    "ax1.set(title='Survival Based on Family Size')\n",
    "sns.pointplot('Alone','Survived',hue='Sex',data=titanic,palette='RdBu_r',ax=ax2)\n",
    "ax2.set(title='Survival vs. Alone Based on Gender')"
   ]
  },
  {
   "cell_type": "markdown",
   "id": "bc7b4744",
   "metadata": {},
   "source": [
    "#### Sex\n",
    "Overall, there were 35% females and 65% males onboard (based on 891 records)"
   ]
  },
  {
   "cell_type": "markdown",
   "id": "db72952f",
   "metadata": {},
   "source": [
    "Draw some tables and plot some graphs to see the relationship of Sex feature with other features."
   ]
  },
  {
   "cell_type": "code",
   "execution_count": 585,
   "id": "c0c6f7ca",
   "metadata": {},
   "outputs": [
    {
     "data": {
      "text/html": [
       "<div>\n",
       "<style scoped>\n",
       "    .dataframe tbody tr th:only-of-type {\n",
       "        vertical-align: middle;\n",
       "    }\n",
       "\n",
       "    .dataframe tbody tr th {\n",
       "        vertical-align: top;\n",
       "    }\n",
       "\n",
       "    .dataframe thead th {\n",
       "        text-align: right;\n",
       "    }\n",
       "</style>\n",
       "<table border=\"1\" class=\"dataframe\">\n",
       "  <thead>\n",
       "    <tr style=\"text-align: right;\">\n",
       "      <th>Survived</th>\n",
       "      <th>0</th>\n",
       "      <th>1</th>\n",
       "      <th>All</th>\n",
       "    </tr>\n",
       "    <tr>\n",
       "      <th>Sex</th>\n",
       "      <th></th>\n",
       "      <th></th>\n",
       "      <th></th>\n",
       "    </tr>\n",
       "  </thead>\n",
       "  <tbody>\n",
       "    <tr>\n",
       "      <th>female</th>\n",
       "      <td>81</td>\n",
       "      <td>233</td>\n",
       "      <td>314</td>\n",
       "    </tr>\n",
       "    <tr>\n",
       "      <th>male</th>\n",
       "      <td>468</td>\n",
       "      <td>109</td>\n",
       "      <td>577</td>\n",
       "    </tr>\n",
       "    <tr>\n",
       "      <th>All</th>\n",
       "      <td>549</td>\n",
       "      <td>342</td>\n",
       "      <td>891</td>\n",
       "    </tr>\n",
       "  </tbody>\n",
       "</table>\n",
       "</div>"
      ],
      "text/plain": [
       "Survived    0    1  All\n",
       "Sex                    \n",
       "female     81  233  314\n",
       "male      468  109  577\n",
       "All       549  342  891"
      ]
     },
     "execution_count": 585,
     "metadata": {},
     "output_type": "execute_result"
    }
   ],
   "source": [
    "pd.crosstab(titanic['Sex'],titanic['Survived'],margins=True)"
   ]
  },
  {
   "cell_type": "markdown",
   "id": "6dab92c7",
   "metadata": {},
   "source": [
    "#### Graphical Representation based on Survival Based on Embarked & Gender"
   ]
  },
  {
   "cell_type": "code",
   "execution_count": 586,
   "id": "ced07b1d",
   "metadata": {},
   "outputs": [
    {
     "data": {
      "text/plain": [
       "[Text(0.5, 1.0, 'Survival Based on Embarked & Gender')]"
      ]
     },
     "execution_count": 586,
     "metadata": {},
     "output_type": "execute_result"
    },
    {
     "data": {
      "image/png": "[encoded data removed]",
      "text/plain": [
       "<Figure size 1080x360 with 2 Axes>"
      ]
     },
     "metadata": {},
     "output_type": "display_data"
    }
   ],
   "source": [
    "f, (ax1,ax2) = plt.subplots(1,2,figsize=(15,5))\n",
    "sns.countplot(x='Sex',data=titanic,hue='Survived',palette='rainbow',ax=ax1)\n",
    "ax1.set(title='Survival Based on Gender')\n",
    "sns.pointplot(x='Embarked',y='Survived',hue='Sex',data=titanic, palette='rainbow',ax=ax2)\n",
    "ax2.set(title='Survival Based on Embarked & Gender')"
   ]
  },
  {
   "cell_type": "markdown",
   "id": "03f71034",
   "metadata": {},
   "source": [
    "#### Graphical Repesentation based on Survival rate based on Sex"
   ]
  },
  {
   "cell_type": "code",
   "execution_count": 587,
   "id": "04e0f3cd",
   "metadata": {},
   "outputs": [
    {
     "data": {
      "text/plain": [
       "<seaborn.axisgrid.FacetGrid at 0x186af93e2b0>"
      ]
     },
     "execution_count": 587,
     "metadata": {},
     "output_type": "execute_result"
    },
    {
     "data": {
      "image/png": "[encoded data removed]",
      "text/plain": [
       "<Figure size 1080x360 with 3 Axes>"
      ]
     },
     "metadata": {},
     "output_type": "display_data"
    }
   ],
   "source": [
    "sns.factorplot('Sex','Survived', col='Pclass',data=titanic,kind='bar',palette='rainbow') "
   ]
  },
  {
   "cell_type": "markdown",
   "id": "8a340569",
   "metadata": {},
   "source": [
    "#### Fare\n",
    "As it's obvious that higher class passengers had paid highest fare and because Class-1 passengers had highest survival rate, followed by Class-2, we can easily deduced that Fare has significant impact on determining chances of survival."
   ]
  },
  {
   "cell_type": "code",
   "execution_count": 588,
   "id": "884142e5",
   "metadata": {},
   "outputs": [
    {
     "data": {
      "text/plain": [
       "count    891.000000\n",
       "mean      32.204208\n",
       "std       49.693429\n",
       "min        0.000000\n",
       "25%        7.910400\n",
       "50%       14.454200\n",
       "75%       31.000000\n",
       "max      512.329200\n",
       "Name: Fare, dtype: float64"
      ]
     },
     "execution_count": 588,
     "metadata": {},
     "output_type": "execute_result"
    }
   ],
   "source": [
    "titanic['Fare'].describe(include=all)"
   ]
  },
  {
   "cell_type": "markdown",
   "id": "a8f89d78",
   "metadata": {},
   "source": [
    "The highest fare paid by passenger was '512.32' and lowest fare was zero."
   ]
  },
  {
   "cell_type": "code",
   "execution_count": 589,
   "id": "fb407ff3",
   "metadata": {},
   "outputs": [
    {
     "data": {
      "text/html": [
       "<div>\n",
       "<style scoped>\n",
       "    .dataframe tbody tr th:only-of-type {\n",
       "        vertical-align: middle;\n",
       "    }\n",
       "\n",
       "    .dataframe tbody tr th {\n",
       "        vertical-align: top;\n",
       "    }\n",
       "\n",
       "    .dataframe thead th {\n",
       "        text-align: right;\n",
       "    }\n",
       "</style>\n",
       "<table border=\"1\" class=\"dataframe\">\n",
       "  <thead>\n",
       "    <tr style=\"text-align: right;\">\n",
       "      <th></th>\n",
       "      <th>PassengerId</th>\n",
       "      <th>Survived</th>\n",
       "      <th>Pclass</th>\n",
       "      <th>Name</th>\n",
       "      <th>Sex</th>\n",
       "      <th>Age</th>\n",
       "      <th>SibSp</th>\n",
       "      <th>Parch</th>\n",
       "      <th>Ticket</th>\n",
       "      <th>Fare</th>\n",
       "      <th>Cabin</th>\n",
       "      <th>Embarked</th>\n",
       "      <th>Title</th>\n",
       "      <th>AgeBins</th>\n",
       "      <th>Child</th>\n",
       "      <th>Deck</th>\n",
       "      <th>IsCabin</th>\n",
       "      <th>FamSize</th>\n",
       "      <th>Alone</th>\n",
       "    </tr>\n",
       "  </thead>\n",
       "  <tbody>\n",
       "    <tr>\n",
       "      <th>258</th>\n",
       "      <td>259</td>\n",
       "      <td>1</td>\n",
       "      <td>1</td>\n",
       "      <td>Ward, Miss. Anna</td>\n",
       "      <td>female</td>\n",
       "      <td>35.0</td>\n",
       "      <td>0</td>\n",
       "      <td>0</td>\n",
       "      <td>PC 17755</td>\n",
       "      <td>512.3292</td>\n",
       "      <td>NaN</td>\n",
       "      <td>C</td>\n",
       "      <td>Miss</td>\n",
       "      <td>(30.0, 40.5]</td>\n",
       "      <td>0</td>\n",
       "      <td>n</td>\n",
       "      <td>0</td>\n",
       "      <td>0</td>\n",
       "      <td>1</td>\n",
       "    </tr>\n",
       "    <tr>\n",
       "      <th>679</th>\n",
       "      <td>680</td>\n",
       "      <td>1</td>\n",
       "      <td>1</td>\n",
       "      <td>Cardeza, Mr. Thomas Drake Martinez</td>\n",
       "      <td>male</td>\n",
       "      <td>36.0</td>\n",
       "      <td>0</td>\n",
       "      <td>1</td>\n",
       "      <td>PC 17755</td>\n",
       "      <td>512.3292</td>\n",
       "      <td>B51 B53 B55</td>\n",
       "      <td>C</td>\n",
       "      <td>Mr</td>\n",
       "      <td>(30.0, 40.5]</td>\n",
       "      <td>0</td>\n",
       "      <td>B</td>\n",
       "      <td>1</td>\n",
       "      <td>1</td>\n",
       "      <td>0</td>\n",
       "    </tr>\n",
       "    <tr>\n",
       "      <th>737</th>\n",
       "      <td>738</td>\n",
       "      <td>1</td>\n",
       "      <td>1</td>\n",
       "      <td>Lesurer, Mr. Gustave J</td>\n",
       "      <td>male</td>\n",
       "      <td>35.0</td>\n",
       "      <td>0</td>\n",
       "      <td>0</td>\n",
       "      <td>PC 17755</td>\n",
       "      <td>512.3292</td>\n",
       "      <td>B101</td>\n",
       "      <td>C</td>\n",
       "      <td>Mr</td>\n",
       "      <td>(30.0, 40.5]</td>\n",
       "      <td>0</td>\n",
       "      <td>B</td>\n",
       "      <td>1</td>\n",
       "      <td>0</td>\n",
       "      <td>1</td>\n",
       "    </tr>\n",
       "  </tbody>\n",
       "</table>\n",
       "</div>"
      ],
      "text/plain": [
       "     PassengerId  Survived  Pclass                                Name  \\\n",
       "258          259         1       1                    Ward, Miss. Anna   \n",
       "679          680         1       1  Cardeza, Mr. Thomas Drake Martinez   \n",
       "737          738         1       1              Lesurer, Mr. Gustave J   \n",
       "\n",
       "        Sex   Age  SibSp  Parch    Ticket      Fare        Cabin Embarked  \\\n",
       "258  female  35.0      0      0  PC 17755  512.3292          NaN        C   \n",
       "679    male  36.0      0      1  PC 17755  512.3292  B51 B53 B55        C   \n",
       "737    male  35.0      0      0  PC 17755  512.3292         B101        C   \n",
       "\n",
       "    Title       AgeBins  Child Deck  IsCabin  FamSize  Alone  \n",
       "258  Miss  (30.0, 40.5]      0    n        0        0      1  \n",
       "679    Mr  (30.0, 40.5]      0    B        1        1      0  \n",
       "737    Mr  (30.0, 40.5]      0    B        1        0      1  "
      ]
     },
     "execution_count": 589,
     "metadata": {},
     "output_type": "execute_result"
    }
   ],
   "source": [
    "titanic[titanic['Fare'] >= 300]"
   ]
  },
  {
   "cell_type": "markdown",
   "id": "f99cfd08",
   "metadata": {},
   "source": [
    "#### Let' draw distribution charts for 'Fare' to see the dispersion across the dataset"
   ]
  },
  {
   "cell_type": "code",
   "execution_count": 590,
   "id": "02a42859",
   "metadata": {},
   "outputs": [
    {
     "data": {
      "text/plain": [
       "Text(0.5, 1.0, 'Fare Distrubution')"
      ]
     },
     "execution_count": 590,
     "metadata": {},
     "output_type": "execute_result"
    },
    {
     "data": {
      "image/png": "[encoded data removed]",
      "text/plain": [
       "<Figure size 864x288 with 1 Axes>"
      ]
     },
     "metadata": {},
     "output_type": "display_data"
    }
   ],
   "source": [
    "titanic['Fare'].plot(kind='hist',bins=50,xlim=(-1,100),figsize=(12,4))\n",
    "plt.title('Fare Distrubution')"
   ]
  },
  {
   "cell_type": "markdown",
   "id": "69cab55d",
   "metadata": {},
   "source": [
    "#### Ticket\n",
    "Ticket feature contains the ticket number of passengers. In some cases, it's a mix of strings and numbers whrease in most of the cases only numbers are given."
   ]
  },
  {
   "cell_type": "markdown",
   "id": "ec62b708",
   "metadata": {},
   "source": [
    "Let's analyse it in detail to determine whether or not it has any impact on passengers' survival."
   ]
  },
  {
   "cell_type": "code",
   "execution_count": 591,
   "id": "5d1faeb4",
   "metadata": {},
   "outputs": [
    {
     "data": {
      "text/plain": [
       "347082          7\n",
       "CA. 2343        7\n",
       "1601            7\n",
       "CA 2144         6\n",
       "3101295         6\n",
       "347088          6\n",
       "S.O.C. 14879    5\n",
       "382652          5\n",
       "4133            4\n",
       "PC 17757        4\n",
       "113760          4\n",
       "2666            4\n",
       "113781          4\n",
       "LINE            4\n",
       "W./C. 6608      4\n",
       "349909          4\n",
       "19950           4\n",
       "17421           4\n",
       "347077          4\n",
       "24160           3\n",
       "Name: Ticket, dtype: int64"
      ]
     },
     "execution_count": 591,
     "metadata": {},
     "output_type": "execute_result"
    }
   ],
   "source": [
    "titanic['Ticket'].value_counts().head(20)"
   ]
  },
  {
   "cell_type": "markdown",
   "id": "265a781c",
   "metadata": {},
   "source": [
    "'0' means Individual Passenger / ticket not shared\n",
    "\n",
    "'1' means Shared Ticket (used by a group of passengers)"
   ]
  },
  {
   "cell_type": "code",
   "execution_count": 592,
   "id": "dc55dfe9",
   "metadata": {},
   "outputs": [
    {
     "data": {
      "text/plain": [
       "347082      7\n",
       "CA. 2343    7\n",
       "Name: Ticket, dtype: int64"
      ]
     },
     "execution_count": 592,
     "metadata": {},
     "output_type": "execute_result"
    }
   ],
   "source": [
    "titanic['SharedTicket']= 0 \n",
    "ticketV = titanic['Ticket'].value_counts() #Calculates passengers groups on each tickets and assign it to a variable 'ticketV'\n",
    "ticketV.head(2)"
   ]
  },
  {
   "cell_type": "code",
   "execution_count": 593,
   "id": "60a23688",
   "metadata": {},
   "outputs": [
    {
     "name": "stdout",
     "output_type": "stream",
     "text": [
      "Number of Individual Tickets:  134\n",
      "Number of Shared Tickets    :  547\n"
     ]
    }
   ],
   "source": [
    "# Creates a list of tickets used by individual(single) passengers\n",
    "single = ticketV.loc[ticketV ==1].index.tolist()\n",
    "\n",
    "# Creates a list of tickets shared by group of passengers\n",
    "multi  = ticketV.loc[ticketV > 1].index.tolist() \n",
    "\n",
    "print(\"Number of Individual Tickets: \", len(multi))     \n",
    "print(\"Number of Shared Tickets    : \", len(single))   "
   ]
  },
  {
   "cell_type": "code",
   "execution_count": 594,
   "id": "367df798",
   "metadata": {},
   "outputs": [],
   "source": [
    "for ticket in multi:\n",
    "    titanic.loc[titanic['Ticket'] == ticket, 'SharedTicket'] = 1"
   ]
  },
  {
   "cell_type": "code",
   "execution_count": 595,
   "id": "7623a675",
   "metadata": {},
   "outputs": [
    {
     "data": {
      "text/plain": [
       "0    547\n",
       "1    344\n",
       "Name: SharedTicket, dtype: int64"
      ]
     },
     "execution_count": 595,
     "metadata": {},
     "output_type": "execute_result"
    }
   ],
   "source": [
    "   titanic['SharedTicket'].value_counts()"
   ]
  },
  {
   "cell_type": "code",
   "execution_count": 596,
   "id": "cf63f088",
   "metadata": {},
   "outputs": [
    {
     "data": {
      "text/html": [
       "<div>\n",
       "<style scoped>\n",
       "    .dataframe tbody tr th:only-of-type {\n",
       "        vertical-align: middle;\n",
       "    }\n",
       "\n",
       "    .dataframe tbody tr th {\n",
       "        vertical-align: top;\n",
       "    }\n",
       "\n",
       "    .dataframe thead th {\n",
       "        text-align: right;\n",
       "    }\n",
       "</style>\n",
       "<table border=\"1\" class=\"dataframe\">\n",
       "  <thead>\n",
       "    <tr style=\"text-align: right;\">\n",
       "      <th>Survived</th>\n",
       "      <th>0</th>\n",
       "      <th>1</th>\n",
       "      <th>All</th>\n",
       "    </tr>\n",
       "    <tr>\n",
       "      <th>SharedTicket</th>\n",
       "      <th></th>\n",
       "      <th></th>\n",
       "      <th></th>\n",
       "    </tr>\n",
       "  </thead>\n",
       "  <tbody>\n",
       "    <tr>\n",
       "      <th>0</th>\n",
       "      <td>384</td>\n",
       "      <td>163</td>\n",
       "      <td>547</td>\n",
       "    </tr>\n",
       "    <tr>\n",
       "      <th>1</th>\n",
       "      <td>165</td>\n",
       "      <td>179</td>\n",
       "      <td>344</td>\n",
       "    </tr>\n",
       "    <tr>\n",
       "      <th>All</th>\n",
       "      <td>549</td>\n",
       "      <td>342</td>\n",
       "      <td>891</td>\n",
       "    </tr>\n",
       "  </tbody>\n",
       "</table>\n",
       "</div>"
      ],
      "text/plain": [
       "Survived        0    1  All\n",
       "SharedTicket               \n",
       "0             384  163  547\n",
       "1             165  179  344\n",
       "All           549  342  891"
      ]
     },
     "execution_count": 596,
     "metadata": {},
     "output_type": "execute_result"
    }
   ],
   "source": [
    "pd.crosstab(titanic['SharedTicket'],titanic['Survived'],margins=True)"
   ]
  },
  {
   "cell_type": "markdown",
   "id": "e081ab6f",
   "metadata": {},
   "source": [
    "#### Graphical Representation on Survival Based on Shared Ticket & Gender"
   ]
  },
  {
   "cell_type": "code",
   "execution_count": 597,
   "id": "1d226a76",
   "metadata": {},
   "outputs": [
    {
     "data": {
      "text/plain": [
       "[Text(0.5, 1.0, 'Survival Based on Shared Ticket & Gender')]"
      ]
     },
     "execution_count": 597,
     "metadata": {},
     "output_type": "execute_result"
    },
    {
     "data": {
      "image/png": "[encoded data removed]",
      "text/plain": [
       "<Figure size 1080x360 with 2 Axes>"
      ]
     },
     "metadata": {},
     "output_type": "display_data"
    }
   ],
   "source": [
    "f, (ax1,ax2) = plt.subplots(1,2,figsize=(15,5))\n",
    "sns.countplot(x='SharedTicket',data=titanic,hue='Survived',palette='rainbow',ax=ax1)\n",
    "ax1.set(title='Survival Based on Shared Ticket')\n",
    "sns.pointplot(x='SharedTicket',y='Survived',hue='Sex',data=titanic, palette='rainbow',ax=ax2)\n",
    "ax2.set(title='Survival Based on Shared Ticket & Gender')"
   ]
  },
  {
   "cell_type": "code",
   "execution_count": 598,
   "id": "ad6465f9",
   "metadata": {},
   "outputs": [
    {
     "data": {
      "text/html": [
       "<div>\n",
       "<style scoped>\n",
       "    .dataframe tbody tr th:only-of-type {\n",
       "        vertical-align: middle;\n",
       "    }\n",
       "\n",
       "    .dataframe tbody tr th {\n",
       "        vertical-align: top;\n",
       "    }\n",
       "\n",
       "    .dataframe thead th {\n",
       "        text-align: right;\n",
       "    }\n",
       "</style>\n",
       "<table border=\"1\" class=\"dataframe\">\n",
       "  <thead>\n",
       "    <tr style=\"text-align: right;\">\n",
       "      <th>Pclass</th>\n",
       "      <th>1</th>\n",
       "      <th>2</th>\n",
       "      <th>3</th>\n",
       "      <th>All</th>\n",
       "    </tr>\n",
       "    <tr>\n",
       "      <th>SharedTicket</th>\n",
       "      <th></th>\n",
       "      <th></th>\n",
       "      <th></th>\n",
       "      <th></th>\n",
       "    </tr>\n",
       "  </thead>\n",
       "  <tbody>\n",
       "    <tr>\n",
       "      <th>0</th>\n",
       "      <td>97</td>\n",
       "      <td>107</td>\n",
       "      <td>343</td>\n",
       "      <td>547</td>\n",
       "    </tr>\n",
       "    <tr>\n",
       "      <th>1</th>\n",
       "      <td>119</td>\n",
       "      <td>77</td>\n",
       "      <td>148</td>\n",
       "      <td>344</td>\n",
       "    </tr>\n",
       "    <tr>\n",
       "      <th>All</th>\n",
       "      <td>216</td>\n",
       "      <td>184</td>\n",
       "      <td>491</td>\n",
       "      <td>891</td>\n",
       "    </tr>\n",
       "  </tbody>\n",
       "</table>\n",
       "</div>"
      ],
      "text/plain": [
       "Pclass          1    2    3  All\n",
       "SharedTicket                    \n",
       "0              97  107  343  547\n",
       "1             119   77  148  344\n",
       "All           216  184  491  891"
      ]
     },
     "execution_count": 598,
     "metadata": {},
     "output_type": "execute_result"
    }
   ],
   "source": [
    "pd.crosstab(titanic['SharedTicket'],titanic['Pclass'],margins=True)"
   ]
  },
  {
   "cell_type": "code",
   "execution_count": 599,
   "id": "aa12b97f",
   "metadata": {},
   "outputs": [
    {
     "data": {
      "text/plain": [
       "<seaborn.axisgrid.FacetGrid at 0x186afc0a1f0>"
      ]
     },
     "execution_count": 599,
     "metadata": {},
     "output_type": "execute_result"
    },
    {
     "data": {
      "image/png": "[encoded data removed]",
      "text/plain": [
       "<Figure size 1146.12x360 with 3 Axes>"
      ]
     },
     "metadata": {},
     "output_type": "display_data"
    }
   ],
   "source": [
    "# Survival based on SharedTicket vs. Pclass taking into account the gender (Sex)\n",
    "sns.factorplot('SharedTicket','Survived', col='Pclass',hue='Sex',data=titanic, palette='rainbow')"
   ]
  },
  {
   "cell_type": "markdown",
   "id": "aebfc5ab",
   "metadata": {},
   "source": [
    "### Data Cleaning"
   ]
  },
  {
   "cell_type": "code",
   "execution_count": 600,
   "id": "7462c0ba",
   "metadata": {},
   "outputs": [
    {
     "data": {
      "text/plain": [
       "(891, 20)"
      ]
     },
     "execution_count": 600,
     "metadata": {},
     "output_type": "execute_result"
    }
   ],
   "source": [
    "titanic.shape"
   ]
  },
  {
   "cell_type": "code",
   "execution_count": 601,
   "id": "458a3ea6",
   "metadata": {},
   "outputs": [
    {
     "name": "stdout",
     "output_type": "stream",
     "text": [
      "<class 'pandas.core.frame.DataFrame'>\n",
      "RangeIndex: 891 entries, 0 to 890\n",
      "Data columns (total 20 columns):\n",
      " #   Column        Non-Null Count  Dtype   \n",
      "---  ------        --------------  -----   \n",
      " 0   PassengerId   891 non-null    int64   \n",
      " 1   Survived      891 non-null    int64   \n",
      " 2   Pclass        891 non-null    int64   \n",
      " 3   Name          891 non-null    object  \n",
      " 4   Sex           891 non-null    object  \n",
      " 5   Age           891 non-null    float64 \n",
      " 6   SibSp         891 non-null    int64   \n",
      " 7   Parch         891 non-null    int64   \n",
      " 8   Ticket        891 non-null    object  \n",
      " 9   Fare          891 non-null    float64 \n",
      " 10  Cabin         204 non-null    object  \n",
      " 11  Embarked      891 non-null    object  \n",
      " 12  Title         891 non-null    object  \n",
      " 13  AgeBins       891 non-null    category\n",
      " 14  Child         891 non-null    int64   \n",
      " 15  Deck          891 non-null    object  \n",
      " 16  IsCabin       891 non-null    int64   \n",
      " 17  FamSize       891 non-null    int64   \n",
      " 18  Alone         891 non-null    int64   \n",
      " 19  SharedTicket  891 non-null    int64   \n",
      "dtypes: category(1), float64(2), int64(10), object(7)\n",
      "memory usage: 133.5+ KB\n"
     ]
    }
   ],
   "source": [
    "titanic.info()  # Overview of dataset features"
   ]
  },
  {
   "cell_type": "code",
   "execution_count": 602,
   "id": "496beec6",
   "metadata": {},
   "outputs": [
    {
     "data": {
      "text/html": [
       "<div>\n",
       "<style scoped>\n",
       "    .dataframe tbody tr th:only-of-type {\n",
       "        vertical-align: middle;\n",
       "    }\n",
       "\n",
       "    .dataframe tbody tr th {\n",
       "        vertical-align: top;\n",
       "    }\n",
       "\n",
       "    .dataframe thead th {\n",
       "        text-align: right;\n",
       "    }\n",
       "</style>\n",
       "<table border=\"1\" class=\"dataframe\">\n",
       "  <thead>\n",
       "    <tr style=\"text-align: right;\">\n",
       "      <th></th>\n",
       "      <th>PassengerId</th>\n",
       "      <th>Survived</th>\n",
       "      <th>Pclass</th>\n",
       "      <th>Name</th>\n",
       "      <th>Sex</th>\n",
       "      <th>Age</th>\n",
       "      <th>SibSp</th>\n",
       "      <th>Parch</th>\n",
       "      <th>Ticket</th>\n",
       "      <th>Fare</th>\n",
       "      <th>Cabin</th>\n",
       "      <th>Embarked</th>\n",
       "      <th>Title</th>\n",
       "      <th>AgeBins</th>\n",
       "      <th>Child</th>\n",
       "      <th>Deck</th>\n",
       "      <th>IsCabin</th>\n",
       "      <th>FamSize</th>\n",
       "      <th>Alone</th>\n",
       "      <th>SharedTicket</th>\n",
       "    </tr>\n",
       "  </thead>\n",
       "  <tbody>\n",
       "    <tr>\n",
       "      <th>0</th>\n",
       "      <td>1</td>\n",
       "      <td>0</td>\n",
       "      <td>3</td>\n",
       "      <td>Braund, Mr. Owen Harris</td>\n",
       "      <td>male</td>\n",
       "      <td>22.0</td>\n",
       "      <td>1</td>\n",
       "      <td>0</td>\n",
       "      <td>A/5 21171</td>\n",
       "      <td>7.2500</td>\n",
       "      <td>NaN</td>\n",
       "      <td>S</td>\n",
       "      <td>Mr</td>\n",
       "      <td>(19.0, 26.0]</td>\n",
       "      <td>0</td>\n",
       "      <td>n</td>\n",
       "      <td>0</td>\n",
       "      <td>1</td>\n",
       "      <td>0</td>\n",
       "      <td>0</td>\n",
       "    </tr>\n",
       "    <tr>\n",
       "      <th>1</th>\n",
       "      <td>2</td>\n",
       "      <td>1</td>\n",
       "      <td>1</td>\n",
       "      <td>Cumings, Mrs. John Bradley (Florence Briggs Th...</td>\n",
       "      <td>female</td>\n",
       "      <td>38.0</td>\n",
       "      <td>1</td>\n",
       "      <td>0</td>\n",
       "      <td>PC 17599</td>\n",
       "      <td>71.2833</td>\n",
       "      <td>C85</td>\n",
       "      <td>C</td>\n",
       "      <td>Mrs</td>\n",
       "      <td>(30.0, 40.5]</td>\n",
       "      <td>0</td>\n",
       "      <td>C</td>\n",
       "      <td>1</td>\n",
       "      <td>1</td>\n",
       "      <td>0</td>\n",
       "      <td>0</td>\n",
       "    </tr>\n",
       "    <tr>\n",
       "      <th>2</th>\n",
       "      <td>3</td>\n",
       "      <td>1</td>\n",
       "      <td>3</td>\n",
       "      <td>Heikkinen, Miss. Laina</td>\n",
       "      <td>female</td>\n",
       "      <td>26.0</td>\n",
       "      <td>0</td>\n",
       "      <td>0</td>\n",
       "      <td>STON/O2. 3101282</td>\n",
       "      <td>7.9250</td>\n",
       "      <td>NaN</td>\n",
       "      <td>S</td>\n",
       "      <td>Miss</td>\n",
       "      <td>(19.0, 26.0]</td>\n",
       "      <td>0</td>\n",
       "      <td>n</td>\n",
       "      <td>0</td>\n",
       "      <td>0</td>\n",
       "      <td>1</td>\n",
       "      <td>0</td>\n",
       "    </tr>\n",
       "    <tr>\n",
       "      <th>3</th>\n",
       "      <td>4</td>\n",
       "      <td>1</td>\n",
       "      <td>1</td>\n",
       "      <td>Futrelle, Mrs. Jacques Heath (Lily May Peel)</td>\n",
       "      <td>female</td>\n",
       "      <td>35.0</td>\n",
       "      <td>1</td>\n",
       "      <td>0</td>\n",
       "      <td>113803</td>\n",
       "      <td>53.1000</td>\n",
       "      <td>C123</td>\n",
       "      <td>S</td>\n",
       "      <td>Mrs</td>\n",
       "      <td>(30.0, 40.5]</td>\n",
       "      <td>0</td>\n",
       "      <td>C</td>\n",
       "      <td>1</td>\n",
       "      <td>1</td>\n",
       "      <td>0</td>\n",
       "      <td>1</td>\n",
       "    </tr>\n",
       "    <tr>\n",
       "      <th>4</th>\n",
       "      <td>5</td>\n",
       "      <td>0</td>\n",
       "      <td>3</td>\n",
       "      <td>Allen, Mr. William Henry</td>\n",
       "      <td>male</td>\n",
       "      <td>35.0</td>\n",
       "      <td>0</td>\n",
       "      <td>0</td>\n",
       "      <td>373450</td>\n",
       "      <td>8.0500</td>\n",
       "      <td>NaN</td>\n",
       "      <td>S</td>\n",
       "      <td>Mr</td>\n",
       "      <td>(30.0, 40.5]</td>\n",
       "      <td>0</td>\n",
       "      <td>n</td>\n",
       "      <td>0</td>\n",
       "      <td>0</td>\n",
       "      <td>1</td>\n",
       "      <td>0</td>\n",
       "    </tr>\n",
       "  </tbody>\n",
       "</table>\n",
       "</div>"
      ],
      "text/plain": [
       "   PassengerId  Survived  Pclass  \\\n",
       "0            1         0       3   \n",
       "1            2         1       1   \n",
       "2            3         1       3   \n",
       "3            4         1       1   \n",
       "4            5         0       3   \n",
       "\n",
       "                                                Name     Sex   Age  SibSp  \\\n",
       "0                            Braund, Mr. Owen Harris    male  22.0      1   \n",
       "1  Cumings, Mrs. John Bradley (Florence Briggs Th...  female  38.0      1   \n",
       "2                             Heikkinen, Miss. Laina  female  26.0      0   \n",
       "3       Futrelle, Mrs. Jacques Heath (Lily May Peel)  female  35.0      1   \n",
       "4                           Allen, Mr. William Henry    male  35.0      0   \n",
       "\n",
       "   Parch            Ticket     Fare Cabin Embarked Title       AgeBins  Child  \\\n",
       "0      0         A/5 21171   7.2500   NaN        S    Mr  (19.0, 26.0]      0   \n",
       "1      0          PC 17599  71.2833   C85        C   Mrs  (30.0, 40.5]      0   \n",
       "2      0  STON/O2. 3101282   7.9250   NaN        S  Miss  (19.0, 26.0]      0   \n",
       "3      0            113803  53.1000  C123        S   Mrs  (30.0, 40.5]      0   \n",
       "4      0            373450   8.0500   NaN        S    Mr  (30.0, 40.5]      0   \n",
       "\n",
       "  Deck  IsCabin  FamSize  Alone  SharedTicket  \n",
       "0    n        0        1      0             0  \n",
       "1    C        1        1      0             0  \n",
       "2    n        0        0      1             0  \n",
       "3    C        1        1      0             1  \n",
       "4    n        0        0      1             0  "
      ]
     },
     "execution_count": 602,
     "metadata": {},
     "output_type": "execute_result"
    }
   ],
   "source": [
    "titanic.head()  # First five rows of titanic dataset"
   ]
  },
  {
   "cell_type": "markdown",
   "id": "079ff7cd",
   "metadata": {},
   "source": [
    "### Creation of Dummy Variables"
   ]
  },
  {
   "cell_type": "code",
   "execution_count": 603,
   "id": "f43e5e8b",
   "metadata": {},
   "outputs": [],
   "source": [
    "#Let's first create Dummy Variable for \"Embarked\" and \"Sex\" features.\n",
    "int1 = titanic.copy()"
   ]
  },
  {
   "cell_type": "code",
   "execution_count": 604,
   "id": "c88cc84b",
   "metadata": {},
   "outputs": [
    {
     "data": {
      "text/plain": [
       "PassengerId       0\n",
       "Survived          0\n",
       "Pclass            0\n",
       "Name              0\n",
       "Sex               0\n",
       "Age               0\n",
       "SibSp             0\n",
       "Parch             0\n",
       "Ticket            0\n",
       "Fare              0\n",
       "Cabin           687\n",
       "Embarked          0\n",
       "Title             0\n",
       "AgeBins           0\n",
       "Child             0\n",
       "Deck              0\n",
       "IsCabin           0\n",
       "FamSize           0\n",
       "Alone             0\n",
       "SharedTicket      0\n",
       "dtype: int64"
      ]
     },
     "execution_count": 604,
     "metadata": {},
     "output_type": "execute_result"
    }
   ],
   "source": [
    "int1.isnull().sum()"
   ]
  },
  {
   "cell_type": "code",
   "execution_count": 605,
   "id": "4aaae7a9",
   "metadata": {},
   "outputs": [],
   "source": [
    "emb  = pd.get_dummies(titanic['Embarked'],drop_first=True) \n",
    "nsex = pd.get_dummies(titanic['Sex'],drop_first=True)     "
   ]
  },
  {
   "cell_type": "markdown",
   "id": "79570d0f",
   "metadata": {},
   "source": [
    "Now, lets Concatenate the newly created Dummy Variables with titanic dataframe"
   ]
  },
  {
   "cell_type": "code",
   "execution_count": 606,
   "id": "7967c156",
   "metadata": {},
   "outputs": [],
   "source": [
    "titanic = pd.concat([titanic,emb],axis=1)  \n",
    "titanic = pd.concat([titanic,nsex],axis=1)"
   ]
  },
  {
   "cell_type": "markdown",
   "id": "b96aeb2b",
   "metadata": {},
   "source": [
    "Let's check the shape of the titanic dataset after creating dummy variables, which shows that three new features have been added."
   ]
  },
  {
   "cell_type": "code",
   "execution_count": 607,
   "id": "a39b6a5c",
   "metadata": {},
   "outputs": [
    {
     "data": {
      "text/plain": [
       "(891, 23)"
      ]
     },
     "execution_count": 607,
     "metadata": {},
     "output_type": "execute_result"
    }
   ],
   "source": [
    "titanic.shape"
   ]
  },
  {
   "cell_type": "code",
   "execution_count": 608,
   "id": "64df1766",
   "metadata": {},
   "outputs": [],
   "source": [
    "#Convertion to Numeric Values\n",
    "#\"Title\" feature contains strings that cannot be used for machine learning. We need to convert it to numeric values.\n",
    "titanic['Title'].replace(['Mr','Mrs','Miss','Child','Other'],[0,1,2,3,4],inplace=True)"
   ]
  },
  {
   "cell_type": "code",
   "execution_count": 609,
   "id": "b2b8f934",
   "metadata": {},
   "outputs": [],
   "source": [
    "titanic.drop(['PassengerId','Name', 'Sex', 'Age', 'SibSp','Parch', 'Ticket', 'Fare', 'Cabin', 'Embarked','AgeBins','Deck'],inplace=True,axis=1)      "
   ]
  },
  {
   "cell_type": "markdown",
   "id": "5ec97374",
   "metadata": {},
   "source": [
    "### Correlation\n",
    "Correlation explains how one or more variables are related to each other"
   ]
  },
  {
   "cell_type": "markdown",
   "id": "481a1db1",
   "metadata": {},
   "source": [
    "Heap Map:-\n",
    "To use a heatmap the data should be in a matrix form. By matrix we mean that the index name and the column name must match in some way so that the data that we fill inside the cells are relevant."
   ]
  },
  {
   "cell_type": "code",
   "execution_count": 610,
   "id": "5039b27a",
   "metadata": {},
   "outputs": [
    {
     "data": {
      "text/plain": [
       "Text(0.5, 1.0, 'Titanic Correlation Chart')"
      ]
     },
     "execution_count": 610,
     "metadata": {},
     "output_type": "execute_result"
    },
    {
     "data": {
      "image/png": "[encoded data removed]",
      "text/plain": [
       "<Figure size 1440x1080 with 2 Axes>"
      ]
     },
     "metadata": {},
     "output_type": "display_data"
    }
   ],
   "source": [
    "plt.figure(figsize=(20,15))\n",
    "sns.heatmap(titanic.corr(),cmap='RdYlGn_r',annot=True)\n",
    "plt.title('Titanic Correlation Chart')"
   ]
  },
  {
   "cell_type": "markdown",
   "id": "f33bd170",
   "metadata": {},
   "source": [
    "### 7. Predictive Modelling / Machine Learning"
   ]
  },
  {
   "cell_type": "markdown",
   "id": "ca07e248",
   "metadata": {},
   "source": [
    "Finally, our data is all set and we are eventually ready for Predictive Modelling / Machine Learning. We will use the following machine algorithms for Predictive Modelling:\n",
    "\n",
    "1. Creation of Predictor & Target Variables\n",
    "2. Data Split- Training & Test Data\n",
    "3. Logistic Regression\n",
    "4. Decision Tree Classifier\n",
    "5. Random Forest Classifier\n",
    "6. Support Vector Machine(rbf)\n",
    "7. Support Vector Machine(Linear)\n",
    "8. K-Nearest Neigbors Classifiers\n",
    "9. Finding Best Score in Knn\n",
    "10. Predictive Modelling Summary"
   ]
  },
  {
   "cell_type": "code",
   "execution_count": 611,
   "id": "0a6bf5fd",
   "metadata": {},
   "outputs": [
    {
     "data": {
      "text/plain": [
       "(891, 11)"
      ]
     },
     "execution_count": 611,
     "metadata": {},
     "output_type": "execute_result"
    }
   ],
   "source": [
    "titanic.shape"
   ]
  },
  {
   "cell_type": "code",
   "execution_count": 612,
   "id": "d9e1fec0",
   "metadata": {},
   "outputs": [
    {
     "data": {
      "text/html": [
       "<div>\n",
       "<style scoped>\n",
       "    .dataframe tbody tr th:only-of-type {\n",
       "        vertical-align: middle;\n",
       "    }\n",
       "\n",
       "    .dataframe tbody tr th {\n",
       "        vertical-align: top;\n",
       "    }\n",
       "\n",
       "    .dataframe thead th {\n",
       "        text-align: right;\n",
       "    }\n",
       "</style>\n",
       "<table border=\"1\" class=\"dataframe\">\n",
       "  <thead>\n",
       "    <tr style=\"text-align: right;\">\n",
       "      <th></th>\n",
       "      <th>Survived</th>\n",
       "      <th>Pclass</th>\n",
       "      <th>Title</th>\n",
       "      <th>Child</th>\n",
       "      <th>IsCabin</th>\n",
       "      <th>FamSize</th>\n",
       "      <th>Alone</th>\n",
       "      <th>SharedTicket</th>\n",
       "      <th>Q</th>\n",
       "      <th>S</th>\n",
       "      <th>male</th>\n",
       "    </tr>\n",
       "  </thead>\n",
       "  <tbody>\n",
       "    <tr>\n",
       "      <th>0</th>\n",
       "      <td>0</td>\n",
       "      <td>3</td>\n",
       "      <td>0</td>\n",
       "      <td>0</td>\n",
       "      <td>0</td>\n",
       "      <td>1</td>\n",
       "      <td>0</td>\n",
       "      <td>0</td>\n",
       "      <td>0</td>\n",
       "      <td>1</td>\n",
       "      <td>1</td>\n",
       "    </tr>\n",
       "    <tr>\n",
       "      <th>1</th>\n",
       "      <td>1</td>\n",
       "      <td>1</td>\n",
       "      <td>1</td>\n",
       "      <td>0</td>\n",
       "      <td>1</td>\n",
       "      <td>1</td>\n",
       "      <td>0</td>\n",
       "      <td>0</td>\n",
       "      <td>0</td>\n",
       "      <td>0</td>\n",
       "      <td>0</td>\n",
       "    </tr>\n",
       "  </tbody>\n",
       "</table>\n",
       "</div>"
      ],
      "text/plain": [
       "   Survived  Pclass  Title  Child  IsCabin  FamSize  Alone  SharedTicket  Q  \\\n",
       "0         0       3      0      0        0        1      0             0  0   \n",
       "1         1       1      1      0        1        1      0             0  0   \n",
       "\n",
       "   S  male  \n",
       "0  1     1  \n",
       "1  0     0  "
      ]
     },
     "execution_count": 612,
     "metadata": {},
     "output_type": "execute_result"
    }
   ],
   "source": [
    "titanic.head(2)"
   ]
  },
  {
   "cell_type": "markdown",
   "id": "3e1d8b19",
   "metadata": {},
   "source": [
    "### Creation of Predictor & Target Variables"
   ]
  },
  {
   "cell_type": "code",
   "execution_count": 613,
   "id": "0ea249af",
   "metadata": {},
   "outputs": [],
   "source": [
    "#Let's now spilit the data into X (predictors) and y (target) variables.\n",
    "y = titanic['Survived']                             \n",
    "X = titanic.drop('Survived',inplace=False,axis=1)"
   ]
  },
  {
   "cell_type": "code",
   "execution_count": 614,
   "id": "72f1d1a6",
   "metadata": {},
   "outputs": [
    {
     "data": {
      "text/html": [
       "<div>\n",
       "<style scoped>\n",
       "    .dataframe tbody tr th:only-of-type {\n",
       "        vertical-align: middle;\n",
       "    }\n",
       "\n",
       "    .dataframe tbody tr th {\n",
       "        vertical-align: top;\n",
       "    }\n",
       "\n",
       "    .dataframe thead th {\n",
       "        text-align: right;\n",
       "    }\n",
       "</style>\n",
       "<table border=\"1\" class=\"dataframe\">\n",
       "  <thead>\n",
       "    <tr style=\"text-align: right;\">\n",
       "      <th></th>\n",
       "      <th>Pclass</th>\n",
       "      <th>Title</th>\n",
       "      <th>Child</th>\n",
       "      <th>IsCabin</th>\n",
       "      <th>FamSize</th>\n",
       "      <th>Alone</th>\n",
       "      <th>SharedTicket</th>\n",
       "      <th>Q</th>\n",
       "      <th>S</th>\n",
       "      <th>male</th>\n",
       "    </tr>\n",
       "  </thead>\n",
       "  <tbody>\n",
       "    <tr>\n",
       "      <th>0</th>\n",
       "      <td>3</td>\n",
       "      <td>0</td>\n",
       "      <td>0</td>\n",
       "      <td>0</td>\n",
       "      <td>1</td>\n",
       "      <td>0</td>\n",
       "      <td>0</td>\n",
       "      <td>0</td>\n",
       "      <td>1</td>\n",
       "      <td>1</td>\n",
       "    </tr>\n",
       "    <tr>\n",
       "      <th>1</th>\n",
       "      <td>1</td>\n",
       "      <td>1</td>\n",
       "      <td>0</td>\n",
       "      <td>1</td>\n",
       "      <td>1</td>\n",
       "      <td>0</td>\n",
       "      <td>0</td>\n",
       "      <td>0</td>\n",
       "      <td>0</td>\n",
       "      <td>0</td>\n",
       "    </tr>\n",
       "  </tbody>\n",
       "</table>\n",
       "</div>"
      ],
      "text/plain": [
       "   Pclass  Title  Child  IsCabin  FamSize  Alone  SharedTicket  Q  S  male\n",
       "0       3      0      0        0        1      0             0  0  1     1\n",
       "1       1      1      0        1        1      0             0  0  0     0"
      ]
     },
     "execution_count": 614,
     "metadata": {},
     "output_type": "execute_result"
    }
   ],
   "source": [
    "X.head(2) "
   ]
  },
  {
   "cell_type": "code",
   "execution_count": 615,
   "id": "0cbb379f",
   "metadata": {},
   "outputs": [
    {
     "data": {
      "text/plain": [
       "0    0\n",
       "1    1\n",
       "Name: Survived, dtype: int64"
      ]
     },
     "execution_count": 615,
     "metadata": {},
     "output_type": "execute_result"
    }
   ],
   "source": [
    "y.head(2)"
   ]
  },
  {
   "cell_type": "markdown",
   "id": "1f8b6afe",
   "metadata": {},
   "source": [
    "### Data Split - Training & Test Data"
   ]
  },
  {
   "cell_type": "code",
   "execution_count": 616,
   "id": "f27b3f94",
   "metadata": {},
   "outputs": [],
   "source": [
    "X_train, X_test, y_train, y_test = train_test_split(X, y, test_size=0.25)"
   ]
  },
  {
   "cell_type": "code",
   "execution_count": 617,
   "id": "7dc3527b",
   "metadata": {},
   "outputs": [
    {
     "name": "stdout",
     "output_type": "stream",
     "text": [
      "'X_train', train data count :  (668, 10)\n",
      "'X_test', test data count   :  (223, 10)\n"
     ]
    }
   ],
   "source": [
    "print (\"'X_train', train data count : \", X_train.shape)\n",
    "print (\"'X_test', test data count   : \", X_test.shape)"
   ]
  },
  {
   "cell_type": "markdown",
   "id": "23973021",
   "metadata": {},
   "source": [
    "let's apply different machine learning algorithms to determine the accuracy of our predictions."
   ]
  },
  {
   "cell_type": "markdown",
   "id": "edfbcece",
   "metadata": {},
   "source": [
    "### Logistic Regression"
   ]
  },
  {
   "cell_type": "code",
   "execution_count": 618,
   "id": "d56c1b44",
   "metadata": {},
   "outputs": [],
   "source": [
    "# Importing of Logistic Regression Library from Scikit-Learn\n",
    "lr = LogisticRegression()                                # Creation of Logistic Regression Model    \n",
    "lr.fit(X_train,y_train)                                  # Model Training\n",
    "lr_pred = lr.predict(X_test)                             # Prediction based on X_test"
   ]
  },
  {
   "cell_type": "code",
   "execution_count": 619,
   "id": "d0cd2c45",
   "metadata": {},
   "outputs": [
    {
     "name": "stdout",
     "output_type": "stream",
     "text": [
      "\n",
      "Accuracy Score =  0.7937219730941704\n",
      "\n",
      "Confusion Matrix: \n",
      " [[112  20]\n",
      " [ 26  65]]\n",
      "\n",
      "Classification Report: \n",
      "               precision    recall  f1-score   support\n",
      "\n",
      "           0       0.81      0.85      0.83       132\n",
      "           1       0.76      0.71      0.74        91\n",
      "\n",
      "    accuracy                           0.79       223\n",
      "   macro avg       0.79      0.78      0.78       223\n",
      "weighted avg       0.79      0.79      0.79       223\n",
      "\n"
     ]
    }
   ],
   "source": [
    "  # Importing of different metrics\n",
    "print('\\nAccuracy Score = ',accuracy_score(y_test,lr_pred))                         # Accuracy Score of the Model\n",
    "print('\\nConfusion Matrix:','\\n',confusion_matrix(y_test,lr_pred))                  # Confusion Matrix\n",
    "print('\\nClassification Report:','\\n',classification_report(y_test,lr_pred))        # Classification Report "
   ]
  },
  {
   "cell_type": "markdown",
   "id": "e0f2bc46",
   "metadata": {},
   "source": [
    "### Decision Tree Classifier"
   ]
  },
  {
   "cell_type": "markdown",
   "id": "67e9dd76",
   "metadata": {},
   "source": [
    "### Model Creation, Training and Prediction"
   ]
  },
  {
   "cell_type": "code",
   "execution_count": 620,
   "id": "90eb5258",
   "metadata": {},
   "outputs": [],
   "source": [
    "# Importing of Logistic Regression Library from Scikit-Learn\n",
    "dt = DecisionTreeClassifier()                            # Creation of Decision Tree Classifier Model   \n",
    "dt.fit(X_train,y_train)                                  # Model Training\n",
    "dt_pred = dt.predict(X_test)                             # Prediction based on X_test"
   ]
  },
  {
   "cell_type": "markdown",
   "id": "b9454c31",
   "metadata": {},
   "source": [
    "### Validation - Decision Tree"
   ]
  },
  {
   "cell_type": "code",
   "execution_count": 621,
   "id": "283b368c",
   "metadata": {},
   "outputs": [
    {
     "name": "stdout",
     "output_type": "stream",
     "text": [
      "\n",
      "Accuracy Score =  0.7713004484304933\n",
      "\n",
      "Confusion Matrix: \n",
      " [[117  15]\n",
      " [ 36  55]]\n",
      "\n",
      "Classification Report: \n",
      "               precision    recall  f1-score   support\n",
      "\n",
      "           0       0.76      0.89      0.82       132\n",
      "           1       0.79      0.60      0.68        91\n",
      "\n",
      "    accuracy                           0.77       223\n",
      "   macro avg       0.78      0.75      0.75       223\n",
      "weighted avg       0.77      0.77      0.76       223\n",
      "\n"
     ]
    }
   ],
   "source": [
    " # Importing of different metrics\n",
    "print('\\nAccuracy Score = ',accuracy_score(y_test,dt_pred))                         # Accuracy Score of the Model\n",
    "print('\\nConfusion Matrix:','\\n',confusion_matrix(y_test,dt_pred))                  # Confusion Matrix\n",
    "print('\\nClassification Report:','\\n',classification_report(y_test,dt_pred))        # Classification Report "
   ]
  },
  {
   "cell_type": "markdown",
   "id": "e311ab3c",
   "metadata": {},
   "source": [
    "### Random Forest Classifier"
   ]
  },
  {
   "cell_type": "markdown",
   "id": "a2cefaf0",
   "metadata": {},
   "source": [
    "### Model Creation, Training and Prediction"
   ]
  },
  {
   "cell_type": "code",
   "execution_count": 622,
   "id": "adf7d264",
   "metadata": {},
   "outputs": [],
   "source": [
    " # Importing of Logistic Regression Library from Scikit-Learn\n",
    "rfc = RandomForestClassifier(n_estimators=100)           # Creation of Random Forest Classifier Model  \n",
    "rfc.fit(X_train,y_train)                                 # Model Training\n",
    "rfc_pred = rfc.predict(X_test)                           # Prediction based on X_test"
   ]
  },
  {
   "cell_type": "markdown",
   "id": "86199855",
   "metadata": {},
   "source": [
    "### Validation - Random Forest"
   ]
  },
  {
   "cell_type": "code",
   "execution_count": 623,
   "id": "53b5ba18",
   "metadata": {},
   "outputs": [
    {
     "name": "stdout",
     "output_type": "stream",
     "text": [
      "\n",
      "Accuracy Score =  0.7802690582959642\n",
      "\n",
      "Confusion Matrix: \n",
      " [[116  16]\n",
      " [ 33  58]]\n",
      "\n",
      "Classification Report: \n",
      "               precision    recall  f1-score   support\n",
      "\n",
      "           0       0.78      0.88      0.83       132\n",
      "           1       0.78      0.64      0.70        91\n",
      "\n",
      "    accuracy                           0.78       223\n",
      "   macro avg       0.78      0.76      0.76       223\n",
      "weighted avg       0.78      0.78      0.78       223\n",
      "\n"
     ]
    }
   ],
   "source": [
    " # Importing of different metrics\n",
    "print('\\nAccuracy Score = ',accuracy_score(y_test,rfc_pred))                         # Accuracy Score of the Model\n",
    "print('\\nConfusion Matrix:','\\n',confusion_matrix(y_test,rfc_pred))                  # Confusion Matrix\n",
    "print('\\nClassification Report:','\\n',classification_report(y_test,rfc_pred))        # Classification Report "
   ]
  },
  {
   "cell_type": "markdown",
   "id": "3dd9a9ec",
   "metadata": {},
   "source": [
    "### Support Vector Machine(rbf)"
   ]
  },
  {
   "cell_type": "markdown",
   "id": "b83f32b5",
   "metadata": {},
   "source": [
    "### Model Creation, Training and Prediction"
   ]
  },
  {
   "cell_type": "code",
   "execution_count": 624,
   "id": "b84a5bdf",
   "metadata": {},
   "outputs": [],
   "source": [
    "# Importing of Logistic Regression Library from Scikit-Learn\n",
    "svr = SVC(kernel='rbf')                                  # Creation of Support Vector Machine (Radial) Model  \n",
    "svr.fit(X_train,y_train)                                 # Model Training\n",
    "svr_pred = svr.predict(X_test)                           # Prediction based on X_test"
   ]
  },
  {
   "cell_type": "markdown",
   "id": "8525e46b",
   "metadata": {},
   "source": [
    "### Validate-SVM (Kernel = rbf)"
   ]
  },
  {
   "cell_type": "code",
   "execution_count": 625,
   "id": "853645ff",
   "metadata": {},
   "outputs": [
    {
     "name": "stdout",
     "output_type": "stream",
     "text": [
      "\n",
      "Accuracy Score =  0.8161434977578476\n",
      "\n",
      "Confusion Matrix: \n",
      " [[117  15]\n",
      " [ 26  65]]\n",
      "\n",
      "Classification Report: \n",
      "               precision    recall  f1-score   support\n",
      "\n",
      "           0       0.82      0.89      0.85       132\n",
      "           1       0.81      0.71      0.76        91\n",
      "\n",
      "    accuracy                           0.82       223\n",
      "   macro avg       0.82      0.80      0.81       223\n",
      "weighted avg       0.82      0.82      0.81       223\n",
      "\n"
     ]
    }
   ],
   "source": [
    " # Importing of different metrics\n",
    "print('\\nAccuracy Score = ',accuracy_score(y_test,svr_pred))                         # Accuracy Score of the Model\n",
    "print('\\nConfusion Matrix:','\\n',confusion_matrix(y_test,svr_pred))                  # Confusion Matrix\n",
    "print('\\nClassification Report:','\\n',classification_report(y_test,svr_pred))        # Classification Report "
   ]
  },
  {
   "cell_type": "markdown",
   "id": "072d2e56",
   "metadata": {},
   "source": [
    "### Support Vector Machine - Linear"
   ]
  },
  {
   "cell_type": "markdown",
   "id": "b6fcf812",
   "metadata": {},
   "source": [
    "### Model Creation, Training and Prediction"
   ]
  },
  {
   "cell_type": "code",
   "execution_count": 626,
   "id": "cfa3250c",
   "metadata": {},
   "outputs": [],
   "source": [
    "# Importing of Logistic Regression Library from Scikit-Learn\n",
    "sv = SVC(kernel='linear')                                # Creation of Support Vector Machine (Linear) Model  \n",
    "sv.fit(X_train,y_train)                                  # Model Training\n",
    "sv_pred = sv.predict(X_test)                             # Prediction based on X_test"
   ]
  },
  {
   "cell_type": "markdown",
   "id": "37bf7b29",
   "metadata": {},
   "source": [
    "### Validation - SVM Linear"
   ]
  },
  {
   "cell_type": "code",
   "execution_count": 627,
   "id": "644035a1",
   "metadata": {},
   "outputs": [
    {
     "name": "stdout",
     "output_type": "stream",
     "text": [
      "\n",
      "Accuracy Score =  0.7623318385650224\n",
      "\n",
      "Confusion Matrix: \n",
      " [[109  23]\n",
      " [ 30  61]]\n",
      "\n",
      "Classification Report: \n",
      "               precision    recall  f1-score   support\n",
      "\n",
      "           0       0.78      0.83      0.80       132\n",
      "           1       0.73      0.67      0.70        91\n",
      "\n",
      "    accuracy                           0.76       223\n",
      "   macro avg       0.76      0.75      0.75       223\n",
      "weighted avg       0.76      0.76      0.76       223\n",
      "\n"
     ]
    }
   ],
   "source": [
    "# Importing of different metrics\n",
    "print('\\nAccuracy Score = ',accuracy_score(y_test,sv_pred))                         # Accuracy Score of the Model\n",
    "print('\\nConfusion Matrix:','\\n',confusion_matrix(y_test,sv_pred))                  # Confusion Matrix\n",
    "print('\\nClassification Report:','\\n',classification_report(y_test,sv_pred))        # Classification Report "
   ]
  },
  {
   "cell_type": "markdown",
   "id": "64eeefb8",
   "metadata": {},
   "source": [
    "### K-Nearest Neighbors Classifier"
   ]
  },
  {
   "cell_type": "markdown",
   "id": "2d8304de",
   "metadata": {},
   "source": [
    "### Model Creation, Training and Prediction"
   ]
  },
  {
   "cell_type": "code",
   "execution_count": 628,
   "id": "68b33693",
   "metadata": {},
   "outputs": [],
   "source": [
    "# Importing of Logistic Regression Library from Scikit-Learn\n",
    "knn = KNeighborsClassifier()                            # Creation of K-Nearest Neighbors Classifier Model \n",
    "knn.fit(X_train,y_train)                                # Model Training\n",
    "knn_pred = knn.predict(X_test)                          # Prediction Based on X_train "
   ]
  },
  {
   "cell_type": "markdown",
   "id": "527b5504",
   "metadata": {},
   "source": [
    "### Validation - KNN"
   ]
  },
  {
   "cell_type": "code",
   "execution_count": 629,
   "id": "2b3d65ec",
   "metadata": {},
   "outputs": [
    {
     "name": "stdout",
     "output_type": "stream",
     "text": [
      "\n",
      "Accuracy Score =  0.7847533632286996\n",
      "\n",
      "Confusion Matrix: \n",
      " [[111  21]\n",
      " [ 27  64]]\n",
      "\n",
      "Classification Report: \n",
      "               precision    recall  f1-score   support\n",
      "\n",
      "           0       0.80      0.84      0.82       132\n",
      "           1       0.75      0.70      0.73        91\n",
      "\n",
      "    accuracy                           0.78       223\n",
      "   macro avg       0.78      0.77      0.77       223\n",
      "weighted avg       0.78      0.78      0.78       223\n",
      "\n"
     ]
    }
   ],
   "source": [
    " # Importing of different metrics\n",
    "print('\\nAccuracy Score = ',accuracy_score(y_test,knn_pred))                         # Accuracy Score of the Model\n",
    "print('\\nConfusion Matrix:','\\n',confusion_matrix(y_test,knn_pred))                  # Confusion Matrix\n",
    "print('\\nClassification Report:','\\n',classification_report(y_test,knn_pred))        # Classification Report "
   ]
  },
  {
   "cell_type": "markdown",
   "id": "63491c3a",
   "metadata": {},
   "source": [
    "### Finding Best Score in KNN (based on number of neighbors)\n"
   ]
  },
  {
   "cell_type": "markdown",
   "id": "2979bc57",
   "metadata": {},
   "source": [
    "The default K-value (neighbors) is 5. Now, let's apply a range of K-values (from 1 to 20) and see how this impacts the overall accuracy score."
   ]
  },
  {
   "cell_type": "code",
   "execution_count": 630,
   "id": "0dae5bcf",
   "metadata": {},
   "outputs": [
    {
     "data": {
      "text/plain": [
       "Text(0, 0.5, 'Accuracy Score')"
      ]
     },
     "execution_count": 630,
     "metadata": {},
     "output_type": "execute_result"
    },
    {
     "data": {
      "image/png": "[encoded data removed]",
      "text/plain": [
       "<Figure size 864x360 with 1 Axes>"
      ]
     },
     "metadata": {},
     "output_type": "display_data"
    }
   ],
   "source": [
    "cnt = list(range(1,21))       # Range for the count of K-values\n",
    "knn_score = []                # List to populate accurracy scores based on the K-value  \n",
    "\n",
    "for i in cnt:                 # Loop to iterate through K-values, apply KNN Model and append the accuracy score to the list    \n",
    "    knn = KNeighborsClassifier(n_neighbors=i)\n",
    "    knn.fit(X_train,y_train)\n",
    "    kpred = knn.predict(X_test)\n",
    "    score = accuracy_score(y_test,kpred)\n",
    "    knn_score.append(score)\n",
    "\n",
    "# Plotting the graph to dipict Accuracy Score vs. K-values\n",
    "\n",
    "plt.figure(figsize=(12,5))\n",
    "plt.plot(cnt,knn_score,color='blue', linestyle='dashed', marker='o', markerfacecolor='red', markersize=10)\n",
    "plt.title('Accuracy Score vs. K Values')\n",
    "plt.xlabel('K-Value')\n",
    "plt.ylabel('Accuracy Score')"
   ]
  },
  {
   "cell_type": "markdown",
   "id": "ff56a49f",
   "metadata": {},
   "source": [
    "### Predictive Modelling Summary"
   ]
  },
  {
   "cell_type": "markdown",
   "id": "21290a4d",
   "metadata": {},
   "source": [
    "Finally, we are done! Let's summarize the accuarcy values as been calculated above after applying different Machine Learning algorithms to determine the best algorithm / model for our Predictive Modelling."
   ]
  },
  {
   "cell_type": "code",
   "execution_count": 631,
   "id": "51935bd4",
   "metadata": {},
   "outputs": [
    {
     "name": "stdout",
     "output_type": "stream",
     "text": [
      "{'Logistic Reg': 0.7937219730941704, 'DecisionTree': 0.7713004484304933, 'RandomForest': 0.7802690582959642, 'SVM-Linear': 0.7623318385650224, 'SVM-rbc': 0.8161434977578476, 'KNN': 0.7847533632286996}\n"
     ]
    },
    {
     "data": {
      "text/plain": [
       "Text(0, 0.5, 'Accuracy Scores')"
      ]
     },
     "execution_count": 631,
     "metadata": {},
     "output_type": "execute_result"
    },
    {
     "data": {
      "image/png": "[encoded data removed]",
      "text/plain": [
       "<Figure size 864x360 with 1 Axes>"
      ]
     },
     "metadata": {},
     "output_type": "display_data"
    }
   ],
   "source": [
    "# Summarizing accuracy scores into a dictionery and plotting the graph\n",
    "summary = {'Logistic Reg':accuracy_score(y_test,lr_pred),'DecisionTree':accuracy_score(y_test,dt_pred),\\\n",
    "           'RandomForest':accuracy_score(y_test,rfc_pred),'SVM-Linear':accuracy_score(y_test,sv_pred),\\\n",
    "           'SVM-rbc':accuracy_score(y_test,svr_pred),'KNN':accuracy_score(y_test,knn_pred)}\n",
    "print(summary)\n",
    "plt.figure(figsize=(12,5))\n",
    "sns.pointplot(x=list(summary.keys()),y=list(summary.values()))\n",
    "plt.title('Accuracy Scores vs. Predictive Models')\n",
    "plt.xlabel('Predictive Models')\n",
    "plt.ylabel('Accuracy Scores')"
   ]
  },
  {
   "cell_type": "markdown",
   "id": "e00c28ae",
   "metadata": {},
   "source": [
    "## Final Predictions"
   ]
  },
  {
   "cell_type": "code",
   "execution_count": 632,
   "id": "421b929b",
   "metadata": {},
   "outputs": [],
   "source": [
    "# Creating trainX and trainY datasets using full titanic dataset\n",
    "trainX = titanic.drop('Survived',axis=1)\n",
    "trainY = titanic['Survived']"
   ]
  },
  {
   "cell_type": "code",
   "execution_count": 633,
   "id": "6dccbd4d",
   "metadata": {},
   "outputs": [
    {
     "data": {
      "text/html": [
       "<div>\n",
       "<style scoped>\n",
       "    .dataframe tbody tr th:only-of-type {\n",
       "        vertical-align: middle;\n",
       "    }\n",
       "\n",
       "    .dataframe tbody tr th {\n",
       "        vertical-align: top;\n",
       "    }\n",
       "\n",
       "    .dataframe thead th {\n",
       "        text-align: right;\n",
       "    }\n",
       "</style>\n",
       "<table border=\"1\" class=\"dataframe\">\n",
       "  <thead>\n",
       "    <tr style=\"text-align: right;\">\n",
       "      <th></th>\n",
       "      <th>Pclass</th>\n",
       "      <th>Title</th>\n",
       "      <th>Child</th>\n",
       "      <th>IsCabin</th>\n",
       "      <th>FamSize</th>\n",
       "      <th>Alone</th>\n",
       "      <th>SharedTicket</th>\n",
       "      <th>Q</th>\n",
       "      <th>S</th>\n",
       "      <th>male</th>\n",
       "    </tr>\n",
       "  </thead>\n",
       "  <tbody>\n",
       "    <tr>\n",
       "      <th>0</th>\n",
       "      <td>3</td>\n",
       "      <td>0</td>\n",
       "      <td>0</td>\n",
       "      <td>0</td>\n",
       "      <td>1</td>\n",
       "      <td>0</td>\n",
       "      <td>0</td>\n",
       "      <td>0</td>\n",
       "      <td>1</td>\n",
       "      <td>1</td>\n",
       "    </tr>\n",
       "    <tr>\n",
       "      <th>1</th>\n",
       "      <td>1</td>\n",
       "      <td>1</td>\n",
       "      <td>0</td>\n",
       "      <td>1</td>\n",
       "      <td>1</td>\n",
       "      <td>0</td>\n",
       "      <td>0</td>\n",
       "      <td>0</td>\n",
       "      <td>0</td>\n",
       "      <td>0</td>\n",
       "    </tr>\n",
       "  </tbody>\n",
       "</table>\n",
       "</div>"
      ],
      "text/plain": [
       "   Pclass  Title  Child  IsCabin  FamSize  Alone  SharedTicket  Q  S  male\n",
       "0       3      0      0        0        1      0             0  0  1     1\n",
       "1       1      1      0        1        1      0             0  0  0     0"
      ]
     },
     "execution_count": 633,
     "metadata": {},
     "output_type": "execute_result"
    }
   ],
   "source": [
    "trainX.head(2)     "
   ]
  },
  {
   "cell_type": "code",
   "execution_count": 634,
   "id": "33cfe553",
   "metadata": {},
   "outputs": [
    {
     "data": {
      "text/plain": [
       "0    0\n",
       "1    1\n",
       "Name: Survived, dtype: int64"
      ]
     },
     "execution_count": 634,
     "metadata": {},
     "output_type": "execute_result"
    }
   ],
   "source": [
    "trainY.head(2)"
   ]
  },
  {
   "cell_type": "markdown",
   "id": "21272934",
   "metadata": {},
   "source": [
    "### Save the Model"
   ]
  },
  {
   "cell_type": "code",
   "execution_count": 651,
   "id": "89728999",
   "metadata": {},
   "outputs": [],
   "source": [
    "import joblib\n",
    "filename = 'inhouse_Titanic-unshinkable_ship.pkl'  # save the model after predictions\n",
    "joblib.dump(predictions, open(filename, 'wb'))"
   ]
  },
  {
   "cell_type": "code",
   "execution_count": 650,
   "id": "e9357327",
   "metadata": {},
   "outputs": [],
   "source": [
    "loaded_model = joblib.load(open('inhouse_Titanic-unshinkable_ship.pkl','rb')) #load the model after predictions"
   ]
  }
 ],
 "metadata": {
  "kernelspec": {
   "display_name": "Python 3",
   "language": "python",
   "name": "python3"
  },
  "language_info": {
   "codemirror_mode": {
    "name": "ipython",
    "version": 3
   },
   "file_extension": ".py",
   "mimetype": "text/x-python",
   "name": "python",
   "nbconvert_exporter": "python",
   "pygments_lexer": "ipython3",
   "version": "3.8.8"
  }
 },
 "nbformat": 4,
 "nbformat_minor": 5
}
